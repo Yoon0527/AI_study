{
  "nbformat": 4,
  "nbformat_minor": 0,
  "metadata": {
    "colab": {
      "name": "[Chapter_5] Backpropagation.ipynb",
      "provenance": [],
      "authorship_tag": "ABX9TyM1bOsOdLccVdtA/sUC/1zM",
      "include_colab_link": true
    },
    "kernelspec": {
      "name": "python3",
      "display_name": "Python 3"
    },
    "language_info": {
      "name": "python"
    }
  },
  "cells": [
    {
      "cell_type": "markdown",
      "metadata": {
        "id": "view-in-github",
        "colab_type": "text"
      },
      "source": [
        "<a href=\"https://colab.research.google.com/github/Yoon0527/AI_study/blob/main/%5BChapter_5%5D_Backpropagation.ipynb\" target=\"_parent\"><img src=\"https://colab.research.google.com/assets/colab-badge.svg\" alt=\"Open In Colab\"/></a>"
      ]
    },
    {
      "cell_type": "markdown",
      "source": [
        "# Chapter 5. 오차역전파법\n",
        "chapter 4에서 신경망의 가중치 매개변수의 기울기는 수치 미분을 사용해 구했다. 수치 미분은 단순하고 구현하기도 쉽지만 계산 시간이 오래 걸린다는 게 단점인데, 이번엔 가중치 매개변수의 기울기를 효율적으로 계산하는 오차역전파법(backpropagation)을 배워보자\n",
        "> **오차역전파?**\n",
        "> \n",
        "> 오차를 반대 방향으로 전파하는 방법이다.\n",
        "\n"
      ],
      "metadata": {
        "id": "12_b8DkaePv_"
      }
    },
    {
      "cell_type": "code",
      "execution_count": null,
      "metadata": {
        "id": "DSLNNDGJaYN6"
      },
      "outputs": [],
      "source": [
        ""
      ]
    }
  ]
}