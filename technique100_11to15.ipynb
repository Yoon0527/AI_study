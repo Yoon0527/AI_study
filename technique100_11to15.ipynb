{
 "cells": [
  {
   "cell_type": "markdown",
   "id": "e0c589d5",
   "metadata": {},
   "source": [
    "# Chapter 2.  데이터를 시각화하고 분석하기 위한 테크닉 10"
   ]
  },
  {
   "cell_type": "markdown",
   "id": "bc0bbeed",
   "metadata": {},
   "source": [
    "#### 11. 데이터를 로딩하고 불필요한 항목을 제외"
   ]
  },
  {
   "cell_type": "code",
   "execution_count": 21,
   "id": "984332dd",
   "metadata": {},
   "outputs": [],
   "source": [
    "import pandas as pd\n",
    "import numpy as np\n",
    "import os\n",
    "import glob\n",
    "import matplotlib.pyplot as plt\n",
    "%matplotlib inline"
   ]
  },
  {
   "cell_type": "code",
   "execution_count": 3,
   "id": "f1caed0c",
   "metadata": {},
   "outputs": [
    {
     "name": "stdout",
     "output_type": "stream",
     "text": [
      "703886\n"
     ]
    },
    {
     "data": {
      "text/html": [
       "<div>\n",
       "<style scoped>\n",
       "    .dataframe tbody tr th:only-of-type {\n",
       "        vertical-align: middle;\n",
       "    }\n",
       "\n",
       "    .dataframe tbody tr th {\n",
       "        vertical-align: top;\n",
       "    }\n",
       "\n",
       "    .dataframe thead th {\n",
       "        text-align: right;\n",
       "    }\n",
       "</style>\n",
       "<table border=\"1\" class=\"dataframe\">\n",
       "  <thead>\n",
       "    <tr style=\"text-align: right;\">\n",
       "      <th></th>\n",
       "      <th>order_id</th>\n",
       "      <th>store_id</th>\n",
       "      <th>customer_id</th>\n",
       "      <th>coupon_cd</th>\n",
       "      <th>sales_detail_id</th>\n",
       "      <th>order_accept_date</th>\n",
       "      <th>delivered_date</th>\n",
       "      <th>takeout_flag</th>\n",
       "      <th>total_amount</th>\n",
       "      <th>status</th>\n",
       "      <th>store_name</th>\n",
       "      <th>area_cd</th>\n",
       "      <th>wide_area</th>\n",
       "      <th>narrow_area</th>\n",
       "      <th>takeout_name</th>\n",
       "      <th>status_name</th>\n",
       "    </tr>\n",
       "  </thead>\n",
       "  <tbody>\n",
       "    <tr>\n",
       "      <th>0</th>\n",
       "      <td>34104383</td>\n",
       "      <td>11</td>\n",
       "      <td>C65806632</td>\n",
       "      <td>57</td>\n",
       "      <td>61573513</td>\n",
       "      <td>2021-04-01 11:00</td>\n",
       "      <td>2021-04-01 11:39</td>\n",
       "      <td>1</td>\n",
       "      <td>28270</td>\n",
       "      <td>1</td>\n",
       "      <td>자양로점</td>\n",
       "      <td>SL</td>\n",
       "      <td>서울</td>\n",
       "      <td>서울</td>\n",
       "      <td>takeout</td>\n",
       "      <td>지불 완료</td>\n",
       "    </tr>\n",
       "    <tr>\n",
       "      <th>1</th>\n",
       "      <td>70652318</td>\n",
       "      <td>59</td>\n",
       "      <td>C09760173</td>\n",
       "      <td>37</td>\n",
       "      <td>54068709</td>\n",
       "      <td>2021-04-01 11:00</td>\n",
       "      <td>2021-04-01 11:34</td>\n",
       "      <td>0</td>\n",
       "      <td>28270</td>\n",
       "      <td>2</td>\n",
       "      <td>가마산로2점</td>\n",
       "      <td>SL</td>\n",
       "      <td>서울</td>\n",
       "      <td>서울</td>\n",
       "      <td>delivery</td>\n",
       "      <td>배달 완료</td>\n",
       "    </tr>\n",
       "    <tr>\n",
       "      <th>2</th>\n",
       "      <td>71640388</td>\n",
       "      <td>195</td>\n",
       "      <td>C61227084</td>\n",
       "      <td>17</td>\n",
       "      <td>93678366</td>\n",
       "      <td>2021-04-01 11:00</td>\n",
       "      <td>2021-04-01 11:54</td>\n",
       "      <td>0</td>\n",
       "      <td>26470</td>\n",
       "      <td>9</td>\n",
       "      <td>화중로점</td>\n",
       "      <td>GB</td>\n",
       "      <td>경기</td>\n",
       "      <td>경기북부</td>\n",
       "      <td>delivery</td>\n",
       "      <td>주문 취소</td>\n",
       "    </tr>\n",
       "    <tr>\n",
       "      <th>3</th>\n",
       "      <td>75673365</td>\n",
       "      <td>127</td>\n",
       "      <td>C64119972</td>\n",
       "      <td>17</td>\n",
       "      <td>5287952</td>\n",
       "      <td>2021-04-01 11:00</td>\n",
       "      <td>2021-04-01 11:17</td>\n",
       "      <td>0</td>\n",
       "      <td>23080</td>\n",
       "      <td>2</td>\n",
       "      <td>분포로점</td>\n",
       "      <td>BS</td>\n",
       "      <td>부산</td>\n",
       "      <td>부산</td>\n",
       "      <td>delivery</td>\n",
       "      <td>배달 완료</td>\n",
       "    </tr>\n",
       "    <tr>\n",
       "      <th>4</th>\n",
       "      <td>9077529</td>\n",
       "      <td>174</td>\n",
       "      <td>C10231192</td>\n",
       "      <td>18</td>\n",
       "      <td>18248867</td>\n",
       "      <td>2021-04-01 11:00</td>\n",
       "      <td>2021-04-01 11:35</td>\n",
       "      <td>0</td>\n",
       "      <td>46920</td>\n",
       "      <td>2</td>\n",
       "      <td>하남산단점</td>\n",
       "      <td>GJ</td>\n",
       "      <td>광주</td>\n",
       "      <td>광주</td>\n",
       "      <td>delivery</td>\n",
       "      <td>배달 완료</td>\n",
       "    </tr>\n",
       "  </tbody>\n",
       "</table>\n",
       "</div>"
      ],
      "text/plain": [
       "   order_id  store_id customer_id  coupon_cd  sales_detail_id  \\\n",
       "0  34104383        11   C65806632         57         61573513   \n",
       "1  70652318        59   C09760173         37         54068709   \n",
       "2  71640388       195   C61227084         17         93678366   \n",
       "3  75673365       127   C64119972         17          5287952   \n",
       "4   9077529       174   C10231192         18         18248867   \n",
       "\n",
       "  order_accept_date    delivered_date  takeout_flag  total_amount  status  \\\n",
       "0  2021-04-01 11:00  2021-04-01 11:39             1         28270       1   \n",
       "1  2021-04-01 11:00  2021-04-01 11:34             0         28270       2   \n",
       "2  2021-04-01 11:00  2021-04-01 11:54             0         26470       9   \n",
       "3  2021-04-01 11:00  2021-04-01 11:17             0         23080       2   \n",
       "4  2021-04-01 11:00  2021-04-01 11:35             0         46920       2   \n",
       "\n",
       "  store_name area_cd wide_area narrow_area takeout_name status_name  \n",
       "0       자양로점      SL        서울          서울      takeout       지불 완료  \n",
       "1     가마산로2점      SL        서울          서울     delivery       배달 완료  \n",
       "2       화중로점      GB        경기        경기북부     delivery       주문 취소  \n",
       "3       분포로점      BS        부산          부산     delivery       배달 완료  \n",
       "4      하남산단점      GJ        광주          광주     delivery       배달 완료  "
      ]
     },
     "execution_count": 3,
     "metadata": {},
     "output_type": "execute_result"
    }
   ],
   "source": [
    "os.chdir('/Users/yun-yeongjun/Desktop/Technique100/make_data')\n",
    "order_data = pd.read_csv('order_data.csv')\n",
    "print(len(order_data))\n",
    "order_data.head()"
   ]
  },
  {
   "cell_type": "code",
   "execution_count": 4,
   "id": "6c7129b0",
   "metadata": {},
   "outputs": [
    {
     "name": "stdout",
     "output_type": "stream",
     "text": [
      "574435\n"
     ]
    },
    {
     "data": {
      "text/html": [
       "<div>\n",
       "<style scoped>\n",
       "    .dataframe tbody tr th:only-of-type {\n",
       "        vertical-align: middle;\n",
       "    }\n",
       "\n",
       "    .dataframe tbody tr th {\n",
       "        vertical-align: top;\n",
       "    }\n",
       "\n",
       "    .dataframe thead th {\n",
       "        text-align: right;\n",
       "    }\n",
       "</style>\n",
       "<table border=\"1\" class=\"dataframe\">\n",
       "  <thead>\n",
       "    <tr style=\"text-align: right;\">\n",
       "      <th></th>\n",
       "      <th>order_id</th>\n",
       "      <th>store_id</th>\n",
       "      <th>customer_id</th>\n",
       "      <th>coupon_cd</th>\n",
       "      <th>sales_detail_id</th>\n",
       "      <th>order_accept_date</th>\n",
       "      <th>delivered_date</th>\n",
       "      <th>takeout_flag</th>\n",
       "      <th>total_amount</th>\n",
       "      <th>status</th>\n",
       "      <th>store_name</th>\n",
       "      <th>area_cd</th>\n",
       "      <th>wide_area</th>\n",
       "      <th>narrow_area</th>\n",
       "      <th>takeout_name</th>\n",
       "      <th>status_name</th>\n",
       "    </tr>\n",
       "  </thead>\n",
       "  <tbody>\n",
       "    <tr>\n",
       "      <th>0</th>\n",
       "      <td>34104383</td>\n",
       "      <td>11</td>\n",
       "      <td>C65806632</td>\n",
       "      <td>57</td>\n",
       "      <td>61573513</td>\n",
       "      <td>2021-04-01 11:00</td>\n",
       "      <td>2021-04-01 11:39</td>\n",
       "      <td>1</td>\n",
       "      <td>28270</td>\n",
       "      <td>1</td>\n",
       "      <td>자양로점</td>\n",
       "      <td>SL</td>\n",
       "      <td>서울</td>\n",
       "      <td>서울</td>\n",
       "      <td>takeout</td>\n",
       "      <td>지불 완료</td>\n",
       "    </tr>\n",
       "    <tr>\n",
       "      <th>1</th>\n",
       "      <td>70652318</td>\n",
       "      <td>59</td>\n",
       "      <td>C09760173</td>\n",
       "      <td>37</td>\n",
       "      <td>54068709</td>\n",
       "      <td>2021-04-01 11:00</td>\n",
       "      <td>2021-04-01 11:34</td>\n",
       "      <td>0</td>\n",
       "      <td>28270</td>\n",
       "      <td>2</td>\n",
       "      <td>가마산로2점</td>\n",
       "      <td>SL</td>\n",
       "      <td>서울</td>\n",
       "      <td>서울</td>\n",
       "      <td>delivery</td>\n",
       "      <td>배달 완료</td>\n",
       "    </tr>\n",
       "    <tr>\n",
       "      <th>3</th>\n",
       "      <td>75673365</td>\n",
       "      <td>127</td>\n",
       "      <td>C64119972</td>\n",
       "      <td>17</td>\n",
       "      <td>5287952</td>\n",
       "      <td>2021-04-01 11:00</td>\n",
       "      <td>2021-04-01 11:17</td>\n",
       "      <td>0</td>\n",
       "      <td>23080</td>\n",
       "      <td>2</td>\n",
       "      <td>분포로점</td>\n",
       "      <td>BS</td>\n",
       "      <td>부산</td>\n",
       "      <td>부산</td>\n",
       "      <td>delivery</td>\n",
       "      <td>배달 완료</td>\n",
       "    </tr>\n",
       "    <tr>\n",
       "      <th>4</th>\n",
       "      <td>9077529</td>\n",
       "      <td>174</td>\n",
       "      <td>C10231192</td>\n",
       "      <td>18</td>\n",
       "      <td>18248867</td>\n",
       "      <td>2021-04-01 11:00</td>\n",
       "      <td>2021-04-01 11:35</td>\n",
       "      <td>0</td>\n",
       "      <td>46920</td>\n",
       "      <td>2</td>\n",
       "      <td>하남산단점</td>\n",
       "      <td>GJ</td>\n",
       "      <td>광주</td>\n",
       "      <td>광주</td>\n",
       "      <td>delivery</td>\n",
       "      <td>배달 완료</td>\n",
       "    </tr>\n",
       "    <tr>\n",
       "      <th>5</th>\n",
       "      <td>86102793</td>\n",
       "      <td>167</td>\n",
       "      <td>C06298599</td>\n",
       "      <td>21</td>\n",
       "      <td>70395221</td>\n",
       "      <td>2021-04-01 11:00</td>\n",
       "      <td>2021-04-01 11:59</td>\n",
       "      <td>1</td>\n",
       "      <td>37420</td>\n",
       "      <td>1</td>\n",
       "      <td>서하로점</td>\n",
       "      <td>GJ</td>\n",
       "      <td>광주</td>\n",
       "      <td>광주</td>\n",
       "      <td>takeout</td>\n",
       "      <td>지불 완료</td>\n",
       "    </tr>\n",
       "  </tbody>\n",
       "</table>\n",
       "</div>"
      ],
      "text/plain": [
       "   order_id  store_id customer_id  coupon_cd  sales_detail_id  \\\n",
       "0  34104383        11   C65806632         57         61573513   \n",
       "1  70652318        59   C09760173         37         54068709   \n",
       "3  75673365       127   C64119972         17          5287952   \n",
       "4   9077529       174   C10231192         18         18248867   \n",
       "5  86102793       167   C06298599         21         70395221   \n",
       "\n",
       "  order_accept_date    delivered_date  takeout_flag  total_amount  status  \\\n",
       "0  2021-04-01 11:00  2021-04-01 11:39             1         28270       1   \n",
       "1  2021-04-01 11:00  2021-04-01 11:34             0         28270       2   \n",
       "3  2021-04-01 11:00  2021-04-01 11:17             0         23080       2   \n",
       "4  2021-04-01 11:00  2021-04-01 11:35             0         46920       2   \n",
       "5  2021-04-01 11:00  2021-04-01 11:59             1         37420       1   \n",
       "\n",
       "  store_name area_cd wide_area narrow_area takeout_name status_name  \n",
       "0       자양로점      SL        서울          서울      takeout       지불 완료  \n",
       "1     가마산로2점      SL        서울          서울     delivery       배달 완료  \n",
       "3       분포로점      BS        부산          부산     delivery       배달 완료  \n",
       "4      하남산단점      GJ        광주          광주     delivery       배달 완료  \n",
       "5       서하로점      GJ        광주          광주      takeout       지불 완료  "
      ]
     },
     "execution_count": 4,
     "metadata": {},
     "output_type": "execute_result"
    }
   ],
   "source": [
    "# 이번 분석에서 필요하지 않은 데이터들 제외\n",
    "order_data = order_data.loc[(order_data['status'] == 1) | (order_data['status'] == 2)]\n",
    "print(len(order_data))\n",
    "order_data.head()"
   ]
  },
  {
   "cell_type": "markdown",
   "id": "e209ef55",
   "metadata": {},
   "source": [
    "* status\n",
    "    - 0: 주문 접수\n",
    "    - 1: 지불 완료\n",
    "    - 2: 배달 완료\n",
    "    - 9: 주문 취소\n",
    "---\n",
    "이번 분석의 핵심은 금액이라서 해당 없는 주문 접수, 주문 취소에 해당하는 status는 제외. 단, **주문 횟수**나 **주문 취소 횟수**를 확인하는 등 관점에 따라서는 그대로 두는 것이 나을 수 있다. 즉, **분석 관점에 따라 데이터 가공 방향을 신중하게 고려해야 한다.**"
   ]
  },
  {
   "cell_type": "code",
   "execution_count": 5,
   "id": "9a360549",
   "metadata": {},
   "outputs": [
    {
     "name": "stdout",
     "output_type": "stream",
     "text": [
      "(574435, 11)\n"
     ]
    },
    {
     "data": {
      "text/html": [
       "<div>\n",
       "<style scoped>\n",
       "    .dataframe tbody tr th:only-of-type {\n",
       "        vertical-align: middle;\n",
       "    }\n",
       "\n",
       "    .dataframe tbody tr th {\n",
       "        vertical-align: top;\n",
       "    }\n",
       "\n",
       "    .dataframe thead th {\n",
       "        text-align: right;\n",
       "    }\n",
       "</style>\n",
       "<table border=\"1\" class=\"dataframe\">\n",
       "  <thead>\n",
       "    <tr style=\"text-align: right;\">\n",
       "      <th></th>\n",
       "      <th>store_id</th>\n",
       "      <th>customer_id</th>\n",
       "      <th>coupon_cd</th>\n",
       "      <th>order_accept_date</th>\n",
       "      <th>delivered_date</th>\n",
       "      <th>total_amount</th>\n",
       "      <th>store_name</th>\n",
       "      <th>wide_area</th>\n",
       "      <th>narrow_area</th>\n",
       "      <th>takeout_name</th>\n",
       "      <th>status_name</th>\n",
       "    </tr>\n",
       "  </thead>\n",
       "  <tbody>\n",
       "    <tr>\n",
       "      <th>0</th>\n",
       "      <td>11</td>\n",
       "      <td>C65806632</td>\n",
       "      <td>57</td>\n",
       "      <td>2021-04-01 11:00</td>\n",
       "      <td>2021-04-01 11:39</td>\n",
       "      <td>28270</td>\n",
       "      <td>자양로점</td>\n",
       "      <td>서울</td>\n",
       "      <td>서울</td>\n",
       "      <td>takeout</td>\n",
       "      <td>지불 완료</td>\n",
       "    </tr>\n",
       "    <tr>\n",
       "      <th>1</th>\n",
       "      <td>59</td>\n",
       "      <td>C09760173</td>\n",
       "      <td>37</td>\n",
       "      <td>2021-04-01 11:00</td>\n",
       "      <td>2021-04-01 11:34</td>\n",
       "      <td>28270</td>\n",
       "      <td>가마산로2점</td>\n",
       "      <td>서울</td>\n",
       "      <td>서울</td>\n",
       "      <td>delivery</td>\n",
       "      <td>배달 완료</td>\n",
       "    </tr>\n",
       "    <tr>\n",
       "      <th>3</th>\n",
       "      <td>127</td>\n",
       "      <td>C64119972</td>\n",
       "      <td>17</td>\n",
       "      <td>2021-04-01 11:00</td>\n",
       "      <td>2021-04-01 11:17</td>\n",
       "      <td>23080</td>\n",
       "      <td>분포로점</td>\n",
       "      <td>부산</td>\n",
       "      <td>부산</td>\n",
       "      <td>delivery</td>\n",
       "      <td>배달 완료</td>\n",
       "    </tr>\n",
       "    <tr>\n",
       "      <th>4</th>\n",
       "      <td>174</td>\n",
       "      <td>C10231192</td>\n",
       "      <td>18</td>\n",
       "      <td>2021-04-01 11:00</td>\n",
       "      <td>2021-04-01 11:35</td>\n",
       "      <td>46920</td>\n",
       "      <td>하남산단점</td>\n",
       "      <td>광주</td>\n",
       "      <td>광주</td>\n",
       "      <td>delivery</td>\n",
       "      <td>배달 완료</td>\n",
       "    </tr>\n",
       "    <tr>\n",
       "      <th>5</th>\n",
       "      <td>167</td>\n",
       "      <td>C06298599</td>\n",
       "      <td>21</td>\n",
       "      <td>2021-04-01 11:00</td>\n",
       "      <td>2021-04-01 11:59</td>\n",
       "      <td>37420</td>\n",
       "      <td>서하로점</td>\n",
       "      <td>광주</td>\n",
       "      <td>광주</td>\n",
       "      <td>takeout</td>\n",
       "      <td>지불 완료</td>\n",
       "    </tr>\n",
       "  </tbody>\n",
       "</table>\n",
       "</div>"
      ],
      "text/plain": [
       "   store_id customer_id  coupon_cd order_accept_date    delivered_date  \\\n",
       "0        11   C65806632         57  2021-04-01 11:00  2021-04-01 11:39   \n",
       "1        59   C09760173         37  2021-04-01 11:00  2021-04-01 11:34   \n",
       "3       127   C64119972         17  2021-04-01 11:00  2021-04-01 11:17   \n",
       "4       174   C10231192         18  2021-04-01 11:00  2021-04-01 11:35   \n",
       "5       167   C06298599         21  2021-04-01 11:00  2021-04-01 11:59   \n",
       "\n",
       "   total_amount store_name wide_area narrow_area takeout_name status_name  \n",
       "0         28270       자양로점        서울          서울      takeout       지불 완료  \n",
       "1         28270     가마산로2점        서울          서울     delivery       배달 완료  \n",
       "3         23080       분포로점        부산          부산     delivery       배달 완료  \n",
       "4         46920      하남산단점        광주          광주     delivery       배달 완료  \n",
       "5         37420       서하로점        광주          광주      takeout       지불 완료  "
      ]
     },
     "execution_count": 5,
     "metadata": {},
     "output_type": "execute_result"
    }
   ],
   "source": [
    "# 이어서 불필요한 데이터 제외\n",
    "analyze_data = order_data[['store_id', 'customer_id', 'coupon_cd', 'order_accept_date', 'delivered_date', \n",
    "                           'total_amount', 'store_name', 'wide_area', 'narrow_area', 'takeout_name', 'status_name']]\n",
    "\n",
    "print(analyze_data.shape)\n",
    "analyze_data.head()"
   ]
  },
  {
   "cell_type": "markdown",
   "id": "05f0d77a",
   "metadata": {},
   "source": [
    "* 레코드 수나 항목 수가 매우 많은 데이터를 다룰 때는 대상 데이터를 가능한 작게 하는 편이 처리속도나 메모리 측면에서 좋다.\n",
    "---\n",
    "Tips\n",
    "- 항목 수가 많을 경우 일일이 코드로 작성하는 것이 어려우므로, order_data.columns에서 화면에 출력된 항목을 복붙하는 것도 좋음\n",
    "- 또는 모든 항목을 analyze_data에 추가한 다음 불필요한 항목을 뒤에서 지정해 삭제할 수도 있다."
   ]
  },
  {
   "cell_type": "markdown",
   "id": "df3c1a34",
   "metadata": {},
   "source": [
    "#### 데이터 전체 이미지를 파악하자"
   ]
  },
  {
   "cell_type": "code",
   "execution_count": 6,
   "id": "e9783074",
   "metadata": {},
   "outputs": [
    {
     "data": {
      "text/html": [
       "<div>\n",
       "<style scoped>\n",
       "    .dataframe tbody tr th:only-of-type {\n",
       "        vertical-align: middle;\n",
       "    }\n",
       "\n",
       "    .dataframe tbody tr th {\n",
       "        vertical-align: top;\n",
       "    }\n",
       "\n",
       "    .dataframe thead th {\n",
       "        text-align: right;\n",
       "    }\n",
       "</style>\n",
       "<table border=\"1\" class=\"dataframe\">\n",
       "  <thead>\n",
       "    <tr style=\"text-align: right;\">\n",
       "      <th></th>\n",
       "      <th>store_id</th>\n",
       "      <th>coupon_cd</th>\n",
       "      <th>total_amount</th>\n",
       "    </tr>\n",
       "  </thead>\n",
       "  <tbody>\n",
       "    <tr>\n",
       "      <th>count</th>\n",
       "      <td>574435.000000</td>\n",
       "      <td>574435.000000</td>\n",
       "      <td>574435.000000</td>\n",
       "    </tr>\n",
       "    <tr>\n",
       "      <th>mean</th>\n",
       "      <td>99.113691</td>\n",
       "      <td>49.474741</td>\n",
       "      <td>29601.264965</td>\n",
       "    </tr>\n",
       "    <tr>\n",
       "      <th>std</th>\n",
       "      <td>55.910285</td>\n",
       "      <td>28.890069</td>\n",
       "      <td>9543.449437</td>\n",
       "    </tr>\n",
       "    <tr>\n",
       "      <th>min</th>\n",
       "      <td>1.000000</td>\n",
       "      <td>0.000000</td>\n",
       "      <td>6980.000000</td>\n",
       "    </tr>\n",
       "    <tr>\n",
       "      <th>25%</th>\n",
       "      <td>51.000000</td>\n",
       "      <td>24.000000</td>\n",
       "      <td>23080.000000</td>\n",
       "    </tr>\n",
       "    <tr>\n",
       "      <th>50%</th>\n",
       "      <td>99.000000</td>\n",
       "      <td>49.000000</td>\n",
       "      <td>28080.000000</td>\n",
       "    </tr>\n",
       "    <tr>\n",
       "      <th>75%</th>\n",
       "      <td>147.000000</td>\n",
       "      <td>75.000000</td>\n",
       "      <td>36170.000000</td>\n",
       "    </tr>\n",
       "    <tr>\n",
       "      <th>max</th>\n",
       "      <td>196.000000</td>\n",
       "      <td>99.000000</td>\n",
       "      <td>51000.000000</td>\n",
       "    </tr>\n",
       "  </tbody>\n",
       "</table>\n",
       "</div>"
      ],
      "text/plain": [
       "            store_id      coupon_cd   total_amount\n",
       "count  574435.000000  574435.000000  574435.000000\n",
       "mean       99.113691      49.474741   29601.264965\n",
       "std        55.910285      28.890069    9543.449437\n",
       "min         1.000000       0.000000    6980.000000\n",
       "25%        51.000000      24.000000   23080.000000\n",
       "50%        99.000000      49.000000   28080.000000\n",
       "75%       147.000000      75.000000   36170.000000\n",
       "max       196.000000      99.000000   51000.000000"
      ]
     },
     "execution_count": 6,
     "metadata": {},
     "output_type": "execute_result"
    }
   ],
   "source": [
    "# 분석용 데이터의 통계량 파악\n",
    "analyze_data.describe()"
   ]
  },
  {
   "cell_type": "markdown",
   "id": "4c08998f",
   "metadata": {},
   "source": [
    "* describe()는 모든 수치형 데이터의 통계량을 출력한다. 여기서는 통계량이 의미가 없는 store_id, coupon_cd의 통계량까지 출력되는 것을 확인할 수 있다.\n"
   ]
  },
  {
   "cell_type": "code",
   "execution_count": 9,
   "id": "24cc2178",
   "metadata": {},
   "outputs": [
    {
     "data": {
      "text/plain": [
       "store_id              int64\n",
       "customer_id          object\n",
       "coupon_cd             int64\n",
       "order_accept_date    object\n",
       "delivered_date       object\n",
       "total_amount          int64\n",
       "store_name           object\n",
       "wide_area            object\n",
       "narrow_area          object\n",
       "takeout_name         object\n",
       "status_name          object\n",
       "dtype: object"
      ]
     },
     "execution_count": 9,
     "metadata": {},
     "output_type": "execute_result"
    }
   ],
   "source": [
    "# 데이터 타입 확인\n",
    "analyze_data.dtypes"
   ]
  },
  {
   "cell_type": "code",
   "execution_count": 12,
   "id": "628c1428",
   "metadata": {},
   "outputs": [
    {
     "name": "stderr",
     "output_type": "stream",
     "text": [
      "/var/folders/ch/vq9cmm0s6qx04xf726b_27g00000gn/T/ipykernel_2014/3945050395.py:2: SettingWithCopyWarning: \n",
      "A value is trying to be set on a copy of a slice from a DataFrame.\n",
      "Try using .loc[row_indexer,col_indexer] = value instead\n",
      "\n",
      "See the caveats in the documentation: https://pandas.pydata.org/pandas-docs/stable/user_guide/indexing.html#returning-a-view-versus-a-copy\n",
      "  analyze_data[['store_id', 'coupon_cd']] = analyze_data[['store_id', 'coupon_cd']].astype(str)\n"
     ]
    },
    {
     "data": {
      "text/plain": [
       "store_id             object\n",
       "customer_id          object\n",
       "coupon_cd            object\n",
       "order_accept_date    object\n",
       "delivered_date       object\n",
       "total_amount          int64\n",
       "store_name           object\n",
       "wide_area            object\n",
       "narrow_area          object\n",
       "takeout_name         object\n",
       "status_name          object\n",
       "dtype: object"
      ]
     },
     "execution_count": 12,
     "metadata": {},
     "output_type": "execute_result"
    }
   ],
   "source": [
    "# store_id와 coupon_cd를 문자형으로 변환\n",
    "analyze_data[['store_id', 'coupon_cd']] = analyze_data[['store_id', 'coupon_cd']].astype(str)\n",
    "analyze_data.dtypes"
   ]
  },
  {
   "cell_type": "markdown",
   "id": "2d19ab94",
   "metadata": {},
   "source": [
    "* 위 셀의 경고 문구: store_id, coupon_cd의 데이터 타입은 변경했지만 참조 데이터인 order_data의 타입을 변경해야한다는 내용\n",
    "--- \n",
    "경고 메시지를 지우거나, 원본 데이터에서도 데이터 타입을 바꿔준다."
   ]
  },
  {
   "cell_type": "code",
   "execution_count": 13,
   "id": "5f49f810",
   "metadata": {},
   "outputs": [],
   "source": [
    "# 경고 지우기\n",
    "# 이 방법은 임시 수단에 불과하므로 가능한 경고 메시지를 발생시키지 않는 것이 좋다.\n",
    "import warnings\n",
    "warnings.filterwarnings('ignore')"
   ]
  },
  {
   "cell_type": "code",
   "execution_count": 14,
   "id": "5f46bcd8",
   "metadata": {},
   "outputs": [
    {
     "data": {
      "text/html": [
       "<div>\n",
       "<style scoped>\n",
       "    .dataframe tbody tr th:only-of-type {\n",
       "        vertical-align: middle;\n",
       "    }\n",
       "\n",
       "    .dataframe tbody tr th {\n",
       "        vertical-align: top;\n",
       "    }\n",
       "\n",
       "    .dataframe thead th {\n",
       "        text-align: right;\n",
       "    }\n",
       "</style>\n",
       "<table border=\"1\" class=\"dataframe\">\n",
       "  <thead>\n",
       "    <tr style=\"text-align: right;\">\n",
       "      <th></th>\n",
       "      <th>total_amount</th>\n",
       "    </tr>\n",
       "  </thead>\n",
       "  <tbody>\n",
       "    <tr>\n",
       "      <th>count</th>\n",
       "      <td>574435.000000</td>\n",
       "    </tr>\n",
       "    <tr>\n",
       "      <th>mean</th>\n",
       "      <td>29601.264965</td>\n",
       "    </tr>\n",
       "    <tr>\n",
       "      <th>std</th>\n",
       "      <td>9543.449437</td>\n",
       "    </tr>\n",
       "    <tr>\n",
       "      <th>min</th>\n",
       "      <td>6980.000000</td>\n",
       "    </tr>\n",
       "    <tr>\n",
       "      <th>25%</th>\n",
       "      <td>23080.000000</td>\n",
       "    </tr>\n",
       "    <tr>\n",
       "      <th>50%</th>\n",
       "      <td>28080.000000</td>\n",
       "    </tr>\n",
       "    <tr>\n",
       "      <th>75%</th>\n",
       "      <td>36170.000000</td>\n",
       "    </tr>\n",
       "    <tr>\n",
       "      <th>max</th>\n",
       "      <td>51000.000000</td>\n",
       "    </tr>\n",
       "  </tbody>\n",
       "</table>\n",
       "</div>"
      ],
      "text/plain": [
       "        total_amount\n",
       "count  574435.000000\n",
       "mean    29601.264965\n",
       "std      9543.449437\n",
       "min      6980.000000\n",
       "25%     23080.000000\n",
       "50%     28080.000000\n",
       "75%     36170.000000\n",
       "max     51000.000000"
      ]
     },
     "execution_count": 14,
     "metadata": {},
     "output_type": "execute_result"
    }
   ],
   "source": [
    "# 통계량 다시 조회\n",
    "analyze_data.describe()"
   ]
  },
  {
   "cell_type": "markdown",
   "id": "1c531a49",
   "metadata": {},
   "source": [
    "#### 13. 월별 매출을 집계하자"
   ]
  },
  {
   "cell_type": "code",
   "execution_count": 15,
   "id": "7823789c",
   "metadata": {},
   "outputs": [
    {
     "data": {
      "text/html": [
       "<div>\n",
       "<style scoped>\n",
       "    .dataframe tbody tr th:only-of-type {\n",
       "        vertical-align: middle;\n",
       "    }\n",
       "\n",
       "    .dataframe tbody tr th {\n",
       "        vertical-align: top;\n",
       "    }\n",
       "\n",
       "    .dataframe thead th {\n",
       "        text-align: right;\n",
       "    }\n",
       "</style>\n",
       "<table border=\"1\" class=\"dataframe\">\n",
       "  <thead>\n",
       "    <tr style=\"text-align: right;\">\n",
       "      <th></th>\n",
       "      <th>order_accept_date</th>\n",
       "      <th>order_accept_month</th>\n",
       "    </tr>\n",
       "  </thead>\n",
       "  <tbody>\n",
       "    <tr>\n",
       "      <th>0</th>\n",
       "      <td>2021-04-01 11:00:00</td>\n",
       "      <td>202104</td>\n",
       "    </tr>\n",
       "    <tr>\n",
       "      <th>1</th>\n",
       "      <td>2021-04-01 11:00:00</td>\n",
       "      <td>202104</td>\n",
       "    </tr>\n",
       "    <tr>\n",
       "      <th>3</th>\n",
       "      <td>2021-04-01 11:00:00</td>\n",
       "      <td>202104</td>\n",
       "    </tr>\n",
       "    <tr>\n",
       "      <th>4</th>\n",
       "      <td>2021-04-01 11:00:00</td>\n",
       "      <td>202104</td>\n",
       "    </tr>\n",
       "    <tr>\n",
       "      <th>5</th>\n",
       "      <td>2021-04-01 11:00:00</td>\n",
       "      <td>202104</td>\n",
       "    </tr>\n",
       "  </tbody>\n",
       "</table>\n",
       "</div>"
      ],
      "text/plain": [
       "    order_accept_date order_accept_month\n",
       "0 2021-04-01 11:00:00             202104\n",
       "1 2021-04-01 11:00:00             202104\n",
       "3 2021-04-01 11:00:00             202104\n",
       "4 2021-04-01 11:00:00             202104\n",
       "5 2021-04-01 11:00:00             202104"
      ]
     },
     "execution_count": 15,
     "metadata": {},
     "output_type": "execute_result"
    }
   ],
   "source": [
    "# 현재 날짜 항목 데이터는 두 가지이지만, 둘 다 데이터 타입이 object 타입이라서 집계할 수 없다.\n",
    "# 날짜 타입으로 변환 필요\n",
    "analyze_data['order_accept_date'] = pd.to_datetime(analyze_data['order_accept_date'])\n",
    "analyze_data['order_accept_month'] = analyze_data['order_accept_date'].dt.strftime('%Y%m')\n",
    "analyze_data[['order_accept_date', 'order_accept_month']].head()"
   ]
  },
  {
   "cell_type": "code",
   "execution_count": 17,
   "id": "f604d5e0",
   "metadata": {},
   "outputs": [
    {
     "data": {
      "text/html": [
       "<div>\n",
       "<style scoped>\n",
       "    .dataframe tbody tr th:only-of-type {\n",
       "        vertical-align: middle;\n",
       "    }\n",
       "\n",
       "    .dataframe tbody tr th {\n",
       "        vertical-align: top;\n",
       "    }\n",
       "\n",
       "    .dataframe thead th {\n",
       "        text-align: right;\n",
       "    }\n",
       "</style>\n",
       "<table border=\"1\" class=\"dataframe\">\n",
       "  <thead>\n",
       "    <tr style=\"text-align: right;\">\n",
       "      <th></th>\n",
       "      <th>delivered_date</th>\n",
       "      <th>delivered_month</th>\n",
       "    </tr>\n",
       "  </thead>\n",
       "  <tbody>\n",
       "    <tr>\n",
       "      <th>0</th>\n",
       "      <td>2021-04-01 11:39:00</td>\n",
       "      <td>202104</td>\n",
       "    </tr>\n",
       "    <tr>\n",
       "      <th>1</th>\n",
       "      <td>2021-04-01 11:34:00</td>\n",
       "      <td>202104</td>\n",
       "    </tr>\n",
       "    <tr>\n",
       "      <th>3</th>\n",
       "      <td>2021-04-01 11:17:00</td>\n",
       "      <td>202104</td>\n",
       "    </tr>\n",
       "    <tr>\n",
       "      <th>4</th>\n",
       "      <td>2021-04-01 11:35:00</td>\n",
       "      <td>202104</td>\n",
       "    </tr>\n",
       "    <tr>\n",
       "      <th>5</th>\n",
       "      <td>2021-04-01 11:59:00</td>\n",
       "      <td>202104</td>\n",
       "    </tr>\n",
       "  </tbody>\n",
       "</table>\n",
       "</div>"
      ],
      "text/plain": [
       "       delivered_date delivered_month\n",
       "0 2021-04-01 11:39:00          202104\n",
       "1 2021-04-01 11:34:00          202104\n",
       "3 2021-04-01 11:17:00          202104\n",
       "4 2021-04-01 11:35:00          202104\n",
       "5 2021-04-01 11:59:00          202104"
      ]
     },
     "execution_count": 17,
     "metadata": {},
     "output_type": "execute_result"
    }
   ],
   "source": [
    "# 만약을 위해 delivered_date도 변환\n",
    "analyze_data['delivered_date'] = pd.to_datetime(analyze_data['delivered_date'])\n",
    "analyze_data['delivered_month'] = analyze_data['delivered_date'].dt.strftime('%Y%m')\n",
    "analyze_data[['delivered_date', 'delivered_month']].head()"
   ]
  },
  {
   "cell_type": "code",
   "execution_count": 18,
   "id": "c278e778",
   "metadata": {},
   "outputs": [
    {
     "data": {
      "text/plain": [
       "store_id                      object\n",
       "customer_id                   object\n",
       "coupon_cd                     object\n",
       "order_accept_date     datetime64[ns]\n",
       "delivered_date        datetime64[ns]\n",
       "total_amount                   int64\n",
       "store_name                    object\n",
       "wide_area                     object\n",
       "narrow_area                   object\n",
       "takeout_name                  object\n",
       "status_name                   object\n",
       "order_accept_month            object\n",
       "delivered_month               object\n",
       "dtype: object"
      ]
     },
     "execution_count": 18,
     "metadata": {},
     "output_type": "execute_result"
    }
   ],
   "source": [
    "analyze_data.dtypes"
   ]
  },
  {
   "cell_type": "code",
   "execution_count": 19,
   "id": "0548d2d2",
   "metadata": {},
   "outputs": [
    {
     "data": {
      "text/html": [
       "<div>\n",
       "<style scoped>\n",
       "    .dataframe tbody tr th:only-of-type {\n",
       "        vertical-align: middle;\n",
       "    }\n",
       "\n",
       "    .dataframe tbody tr th {\n",
       "        vertical-align: top;\n",
       "    }\n",
       "\n",
       "    .dataframe thead tr th {\n",
       "        text-align: left;\n",
       "    }\n",
       "\n",
       "    .dataframe thead tr:last-of-type th {\n",
       "        text-align: right;\n",
       "    }\n",
       "</style>\n",
       "<table border=\"1\" class=\"dataframe\">\n",
       "  <thead>\n",
       "    <tr>\n",
       "      <th></th>\n",
       "      <th colspan=\"8\" halign=\"left\">total_amount</th>\n",
       "    </tr>\n",
       "    <tr>\n",
       "      <th></th>\n",
       "      <th>count</th>\n",
       "      <th>mean</th>\n",
       "      <th>std</th>\n",
       "      <th>min</th>\n",
       "      <th>25%</th>\n",
       "      <th>50%</th>\n",
       "      <th>75%</th>\n",
       "      <th>max</th>\n",
       "    </tr>\n",
       "    <tr>\n",
       "      <th>order_accept_month</th>\n",
       "      <th></th>\n",
       "      <th></th>\n",
       "      <th></th>\n",
       "      <th></th>\n",
       "      <th></th>\n",
       "      <th></th>\n",
       "      <th></th>\n",
       "      <th></th>\n",
       "    </tr>\n",
       "  </thead>\n",
       "  <tbody>\n",
       "    <tr>\n",
       "      <th>202104</th>\n",
       "      <td>189388.0</td>\n",
       "      <td>29594.948571</td>\n",
       "      <td>9541.173902</td>\n",
       "      <td>6980.0</td>\n",
       "      <td>23080.0</td>\n",
       "      <td>28080.0</td>\n",
       "      <td>35860.0</td>\n",
       "      <td>51000.0</td>\n",
       "    </tr>\n",
       "    <tr>\n",
       "      <th>202105</th>\n",
       "      <td>195699.0</td>\n",
       "      <td>29605.344432</td>\n",
       "      <td>9550.949075</td>\n",
       "      <td>6980.0</td>\n",
       "      <td>23080.0</td>\n",
       "      <td>28080.0</td>\n",
       "      <td>36170.0</td>\n",
       "      <td>51000.0</td>\n",
       "    </tr>\n",
       "    <tr>\n",
       "      <th>202106</th>\n",
       "      <td>189348.0</td>\n",
       "      <td>29603.366394</td>\n",
       "      <td>9538.016581</td>\n",
       "      <td>6980.0</td>\n",
       "      <td>23080.0</td>\n",
       "      <td>28080.0</td>\n",
       "      <td>36170.0</td>\n",
       "      <td>51000.0</td>\n",
       "    </tr>\n",
       "  </tbody>\n",
       "</table>\n",
       "</div>"
      ],
      "text/plain": [
       "                   total_amount                                              \\\n",
       "                          count          mean          std     min      25%   \n",
       "order_accept_month                                                            \n",
       "202104                 189388.0  29594.948571  9541.173902  6980.0  23080.0   \n",
       "202105                 195699.0  29605.344432  9550.949075  6980.0  23080.0   \n",
       "202106                 189348.0  29603.366394  9538.016581  6980.0  23080.0   \n",
       "\n",
       "                                               \n",
       "                        50%      75%      max  \n",
       "order_accept_month                             \n",
       "202104              28080.0  35860.0  51000.0  \n",
       "202105              28080.0  36170.0  51000.0  \n",
       "202106              28080.0  36170.0  51000.0  "
      ]
     },
     "execution_count": 19,
     "metadata": {},
     "output_type": "execute_result"
    }
   ],
   "source": [
    "# 통계 데이터 월별 확인\n",
    "month_data = analyze_data.groupby('order_accept_month')\n",
    "month_data.describe()"
   ]
  },
  {
   "cell_type": "code",
   "execution_count": 20,
   "id": "b1fc1396",
   "metadata": {},
   "outputs": [
    {
     "data": {
      "text/html": [
       "<div>\n",
       "<style scoped>\n",
       "    .dataframe tbody tr th:only-of-type {\n",
       "        vertical-align: middle;\n",
       "    }\n",
       "\n",
       "    .dataframe tbody tr th {\n",
       "        vertical-align: top;\n",
       "    }\n",
       "\n",
       "    .dataframe thead th {\n",
       "        text-align: right;\n",
       "    }\n",
       "</style>\n",
       "<table border=\"1\" class=\"dataframe\">\n",
       "  <thead>\n",
       "    <tr style=\"text-align: right;\">\n",
       "      <th></th>\n",
       "      <th>total_amount</th>\n",
       "    </tr>\n",
       "    <tr>\n",
       "      <th>order_accept_month</th>\n",
       "      <th></th>\n",
       "    </tr>\n",
       "  </thead>\n",
       "  <tbody>\n",
       "    <tr>\n",
       "      <th>202104</th>\n",
       "      <td>5604928120</td>\n",
       "    </tr>\n",
       "    <tr>\n",
       "      <th>202105</th>\n",
       "      <td>5793736300</td>\n",
       "    </tr>\n",
       "    <tr>\n",
       "      <th>202106</th>\n",
       "      <td>5605338220</td>\n",
       "    </tr>\n",
       "  </tbody>\n",
       "</table>\n",
       "</div>"
      ],
      "text/plain": [
       "                    total_amount\n",
       "order_accept_month              \n",
       "202104                5604928120\n",
       "202105                5793736300\n",
       "202106                5605338220"
      ]
     },
     "execution_count": 20,
     "metadata": {},
     "output_type": "execute_result"
    }
   ],
   "source": [
    "# 합계 금액 확인\n",
    "month_data.sum()"
   ]
  },
  {
   "cell_type": "markdown",
   "id": "20ee9bfe",
   "metadata": {},
   "source": [
    "#### 월별 추이를 시각화하자"
   ]
  },
  {
   "cell_type": "markdown",
   "id": "5c9b102a",
   "metadata": {},
   "source": [
    "* 표 형식은 값을 비교하는 목적으로는 적합하지 않다.\n",
    "    - 표 안에서 숫자를 추출해 비교하는 작업을 사람이 직접해야 한다.\n",
    "    - 전체 중 순위를 확인하기 위해 머릿속으로 계속 계산해야 한다.\n",
    "* 따라서 별도로 계산하지 않고도 직관적으로 이해할 수 있는 그래프로 시각화하는 것은 매우 중요하다.\n",
    "---\n",
    "**인식해야 할 정보량을 줄이는 동시에 이해하기 쉽게 시각화하는 작업이 단순하게 느껴질지 모르지만, 시각화 하나만으로도 큰 연구 주제이다.**"
   ]
  },
  {
   "cell_type": "code",
   "execution_count": 23,
   "id": "fed7c127",
   "metadata": {},
   "outputs": [
    {
     "data": {
      "text/plain": [
       "<AxesSubplot:xlabel='order_accept_month'>"
      ]
     },
     "execution_count": 23,
     "metadata": {},
     "output_type": "execute_result"
    },
    {
     "data": {
      "image/png": "[encoded data removed]",
      "text/plain": [
       "<Figure size 640x480 with 1 Axes>"
      ]
     },
     "metadata": {},
     "output_type": "display_data"
    }
   ],
   "source": [
    "# matplotlib을 이용한 시각화\n",
    "\n",
    "# 한글 폰트 처리\n",
    "if os.name == 'ns': #windows\n",
    "    plt.rc('font', family='Malgun Gothic')\n",
    "elif os.name == 'posix': #mac\n",
    "    plt.rc('font', family='AllieGothic')\n",
    "    \n",
    "plt.rc('axes', unicode_minus=False)  #minus font settings\n",
    "\n",
    "# 월별 매출 합계 시각화\n",
    "month_data.sum().plot()"
   ]
  },
  {
   "cell_type": "markdown",
   "id": "70a7ebdd",
   "metadata": {},
   "source": [
    "* **5월 매출이 다른 날 매출보다 크다는 것을 표로 보는 것보다 직관적으로 알 수 있다.**\n",
    "---\n",
    "* matplotlib은 한국어 대응 X: 위 방법 참고"
   ]
  },
  {
   "cell_type": "code",
   "execution_count": 24,
   "id": "fbc25b01",
   "metadata": {},
   "outputs": [
    {
     "data": {
      "text/plain": [
       "<AxesSubplot:xlabel='order_accept_month'>"
      ]
     },
     "execution_count": 24,
     "metadata": {},
     "output_type": "execute_result"
    },
    {
     "data": {
      "image/png": "[encoded data removed]",
      "text/plain": [
       "<Figure size 640x480 with 1 Axes>"
      ]
     },
     "metadata": {},
     "output_type": "display_data"
    }
   ],
   "source": [
    "# 매출 평균액 시각화\n",
    "month_data.mean().plot()"
   ]
  },
  {
   "cell_type": "markdown",
   "id": "c091f665",
   "metadata": {},
   "source": [
    "* 매출 평균액도 5월이 높지만 합계 금액 그래프와는 경향이 다른 것을 알 수 있다.\n",
    "---\n",
    "이런 경향을 보면 평소 매출이 어느 정도이고, 매출이 올랐을 때 얼마나 가설이 맞았는지 분석할 수 있다."
   ]
  },
  {
   "cell_type": "markdown",
   "id": "7cafe890",
   "metadata": {},
   "source": [
    "#### 15. 매출로부터 히스토그램을 만들자\n",
    "- 이 데이터에서 히스토그램을 활용하면 매출 분포를 볼 수 있다."
   ]
  },
  {
   "cell_type": "code",
   "execution_count": 25,
   "id": "d8a8628f",
   "metadata": {},
   "outputs": [
    {
     "data": {
      "text/plain": [
       "(array([ 21523.,      0.,  48988., 135661., 111207.,  77584.,  54150.,\n",
       "         59831.,  34400.,  31091.]),\n",
       " array([ 6980., 11382., 15784., 20186., 24588., 28990., 33392., 37794.,\n",
       "        42196., 46598., 51000.]),\n",
       " <BarContainer object of 10 artists>)"
      ]
     },
     "execution_count": 25,
     "metadata": {},
     "output_type": "execute_result"
    },
    {
     "data": {
      "image/png": "[encoded data removed]",
      "text/plain": [
       "<Figure size 640x480 with 1 Axes>"
      ]
     },
     "metadata": {},
     "output_type": "display_data"
    }
   ],
   "source": [
    "# 히스토그램이 어떤 것인지 출력해보자\n",
    "plt.hist(analyze_data['total_amount'])"
   ]
  },
  {
   "cell_type": "markdown",
   "id": "bcb4caf4",
   "metadata": {},
   "source": [
    "* 가로축은 가격대, 세로축은 레코드 수\n",
    "---\n",
    "- 주문 1건당 2만원~3만원의 주문이 많다: 지역이나 매장 단위로 보면 고객층의 특징을 파악하는 단서로 이용할 수 있다.\n",
    "- 다음 대책을 수립할 때에도 중요한 요소가 된다.\n",
    "- 파티 메뉴를 준비할 때 어느 정도의 가격까지 허용해야 수요와 매치가 되는지 검토할 수 있는 재료가 된다."
   ]
  },
  {
   "cell_type": "code",
   "execution_count": 26,
   "id": "7cb20029",
   "metadata": {},
   "outputs": [
    {
     "data": {
      "text/plain": [
       "(array([10723., 10800.,     0.,     0.,     0., 48988., 45766., 78345.,\n",
       "        23174., 66450., 44344., 38738., 27635., 42501., 12512., 35282.,\n",
       "        23761., 11147., 23178., 22658.,  8433.]),\n",
       " array([ 6980.        ,  9076.19047619, 11172.38095238, 13268.57142857,\n",
       "        15364.76190476, 17460.95238095, 19557.14285714, 21653.33333333,\n",
       "        23749.52380952, 25845.71428571, 27941.9047619 , 30038.0952381 ,\n",
       "        32134.28571429, 34230.47619048, 36326.66666667, 38422.85714286,\n",
       "        40519.04761905, 42615.23809524, 44711.42857143, 46807.61904762,\n",
       "        48903.80952381, 51000.        ]),\n",
       " <BarContainer object of 21 artists>)"
      ]
     },
     "execution_count": 26,
     "metadata": {},
     "output_type": "execute_result"
    },
    {
     "data": {
      "image/png": "[encoded data removed]",
      "text/plain": [
       "<Figure size 640x480 with 1 Axes>"
      ]
     },
     "metadata": {},
     "output_type": "display_data"
    }
   ],
   "source": [
    "# 가로축의 단계를 더욱 세분화\n",
    "plt.hist(analyze_data['total_amount'], bins=21)"
   ]
  },
  {
   "cell_type": "markdown",
   "id": "e4b74104",
   "metadata": {},
   "source": [
    "* 세분화 해서 보면 더 자세한 분포를 확인할 수 있다.\n",
    "* 단계를 구분하는 정도는 상황에따라 다르므로 먼저 기본 출력되는 데이터를 보는 것부터 시작한다.\n",
    "* 너무 세세하게 보면 각 요철에 대해 설명하기 어려워진다.\n",
    "* bins 값을 바꿔가면서 어떤 경향이 보이고 이를 어떻게 해석할 수 있는지, 그 해석이 타당한지 고려한다.\n",
    "---\n",
    "* 최적의 단계 수를 계산하는 공식도 있다고 함.\n"
   ]
  }
 ],
 "metadata": {
  "kernelspec": {
   "display_name": "Python 3 (ipykernel)",
   "language": "python",
   "name": "python3"
  },
  "language_info": {
   "codemirror_mode": {
    "name": "ipython",
    "version": 3
   },
   "file_extension": ".py",
   "mimetype": "text/x-python",
   "name": "python",
   "nbconvert_exporter": "python",
   "pygments_lexer": "ipython3",
   "version": "3.9.13"
  }
 },
 "nbformat": 4,
 "nbformat_minor": 5
}
