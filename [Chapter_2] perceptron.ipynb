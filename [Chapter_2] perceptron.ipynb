{
 "cells": [
  {
   "cell_type": "markdown",
   "id": "e2b1a022",
   "metadata": {},
   "source": [
    "# [Chapter 2] 퍼셉트론\n",
    "* 퍼셉트론\n",
    "    * 신경망(딥러닝)의 기원이 되는 알고리즘\n",
    "    * 다수의 신호를 입력받아 하나의 신호를 출력한다.\n",
    "    * 입력 신호가 뉴런에 보내질 때는 각각 고유한 **가중치**가 곱해진다\n",
    "        * 가중치: 가중치가 클수록 해당 신호가 그만큼 더 중요함을 뜻한다.\n",
    "    * 뉴런에서 보내온 신호의 총합이 정해진 **한계(=임계값, theta 기호로 나타냄)**를 넘어설 때만 1을 출력한다.\n",
    "    * 퍼셉트론을 활용해 AND, NAND, OR 논리 회로를 구현(49p~)"
   ]
  },
  {
   "cell_type": "code",
   "execution_count": 1,
   "id": "60a8db17",
   "metadata": {},
   "outputs": [],
   "source": [
    "# 퍼셉트론 AND 게이트 구현해보기\n",
    "def AND(x1, x2):\n",
    "    w1, w2, theta = 0.5, 0.5, 0.7\n",
    "    tmp = x1*w1 + x2*w2\n",
    "    if tmp <= theta:\n",
    "        return 0\n",
    "    elif tmp >= theta:\n",
    "        return 1"
   ]
  },
  {
   "cell_type": "code",
   "execution_count": 7,
   "id": "088e9ad7",
   "metadata": {},
   "outputs": [
    {
     "data": {
      "text/plain": [
       "0"
      ]
     },
     "execution_count": 7,
     "metadata": {},
     "output_type": "execute_result"
    }
   ],
   "source": [
    "AND(0, 0)"
   ]
  },
  {
   "cell_type": "code",
   "execution_count": 8,
   "id": "1e20dd8d",
   "metadata": {},
   "outputs": [
    {
     "data": {
      "text/plain": [
       "0"
      ]
     },
     "execution_count": 8,
     "metadata": {},
     "output_type": "execute_result"
    }
   ],
   "source": [
    "AND(1, 0)"
   ]
  },
  {
   "cell_type": "code",
   "execution_count": 9,
   "id": "a5127ade",
   "metadata": {},
   "outputs": [
    {
     "data": {
      "text/plain": [
       "0"
      ]
     },
     "execution_count": 9,
     "metadata": {},
     "output_type": "execute_result"
    }
   ],
   "source": [
    "AND(0, 1)"
   ]
  },
  {
   "cell_type": "code",
   "execution_count": 10,
   "id": "4936c377",
   "metadata": {},
   "outputs": [
    {
     "data": {
      "text/plain": [
       "1"
      ]
     },
     "execution_count": 10,
     "metadata": {},
     "output_type": "execute_result"
    }
   ],
   "source": [
    "AND(1, 1)"
   ]
  },
  {
   "cell_type": "markdown",
   "id": "f76d6230",
   "metadata": {},
   "source": [
    "* 편향(bias)\n",
    "    * 원래 식에서 임계값 theta를 -b로 치환해 식에 적용하면, **b + w1x1 + w2x2** 가 된다!!! \n",
    "    * 즉, 편향은 임계값과 관련이 있었음\n",
    "    * 퍼셉트론은 입력 신호에 가중치를 곱한 값과 편향을 합해서 그 값이 0을 넘으면 출력, 넘지 않으면 0을 출력한다."
   ]
  },
  {
   "cell_type": "code",
   "execution_count": 11,
   "id": "eef19d05",
   "metadata": {},
   "outputs": [
    {
     "data": {
      "text/plain": [
       "array([0. , 0.5])"
      ]
     },
     "execution_count": 11,
     "metadata": {},
     "output_type": "execute_result"
    }
   ],
   "source": [
    "import numpy as np\n",
    "x = np.array([0, 1]) # 입력\n",
    "w = np.array([0.5, 0.5]) # 가중치\n",
    "b = -0.7 # 편향\n",
    "w*x"
   ]
  },
  {
   "cell_type": "code",
   "execution_count": 12,
   "id": "4898b093",
   "metadata": {},
   "outputs": [
    {
     "data": {
      "text/plain": [
       "0.5"
      ]
     },
     "execution_count": 12,
     "metadata": {},
     "output_type": "execute_result"
    }
   ],
   "source": [
    "np.sum(w*x)"
   ]
  },
  {
   "cell_type": "code",
   "execution_count": 13,
   "id": "cd82a737",
   "metadata": {},
   "outputs": [
    {
     "data": {
      "text/plain": [
       "-0.19999999999999996"
      ]
     },
     "execution_count": 13,
     "metadata": {},
     "output_type": "execute_result"
    }
   ],
   "source": [
    "np.sum(w*x) + b"
   ]
  },
  {
   "cell_type": "code",
   "execution_count": 14,
   "id": "c5092fc6",
   "metadata": {},
   "outputs": [],
   "source": [
    "# 가중치와 편향을 도입한 AND 게이트\n",
    "def AND(x1, x2):\n",
    "    x = np.array([x1, x2])\n",
    "    w = np.array([0.5, 0.5])\n",
    "    b = -0.7\n",
    "    tmp = np.sum(w*x) + b\n",
    "    if tmp <= 0:\n",
    "        return 0\n",
    "    else:\n",
    "        return 1"
   ]
  },
  {
   "cell_type": "markdown",
   "id": "a656324a",
   "metadata": {},
   "source": [
    "* 가중치는 **각 입력 신호가 결과에 주는 영향력(중요도)을 조절하는 매개변수**\n",
    "* 편향은 **뉴런이 얼마나 쉽게 활성화(결과로 1을 출력)하느냐를 조정하는 매개변수**\n",
    "    * 편향이라는 용어는 '한쪽으로 치우쳐 균형을 깬다'라는 의미이다. 입력이 모두 0이어도 결과로 0이 아닌 편향값을 출력한다.\n",
    "    * b가 -0.1이면 각 입력 신호에 가중치를 곱한 값들의 합이 0.1을 초과할 때만 뉴런이 활성화한다. \n",
    "    * 그리고 b가 -20.0이면 각 입력 신호에 가중치를 곱한 값들의 합이 20.0을 넘지 않으면 뉴런은 활성화하지 않는다.\n",
    "    * 즉, 편향의 값은 뉴런이 **얼마나 쉽게 활성화되는지를 결정한다.**"
   ]
  },
  {
   "cell_type": "markdown",
   "id": "b6b13271",
   "metadata": {},
   "source": [
    "***"
   ]
  },
  {
   "cell_type": "code",
   "execution_count": 15,
   "id": "d85a80bb",
   "metadata": {},
   "outputs": [],
   "source": [
    "# NAND\n",
    "def NAND(x1, x2):\n",
    "    x = np.array([x1, x2])\n",
    "    w = np.array([-0.5, -0.5])\n",
    "    b = 0.7\n",
    "    tmp = np.sum(w*x) + b\n",
    "    if tmp <= 0:\n",
    "        return 0\n",
    "    else:\n",
    "        return 1\n",
    "    \n",
    "def OR(x1, x2):\n",
    "    x = np.array([x1, x2])\n",
    "    w = np.array([0.5, 0.5])\n",
    "    b = -0.2\n",
    "    tmp = np.sum(w*x) + b\n",
    "    if tmp <= 0:\n",
    "        return 0\n",
    "    else:\n",
    "        return 1"
   ]
  },
  {
   "cell_type": "code",
   "execution_count": 16,
   "id": "b43bbafc",
   "metadata": {},
   "outputs": [
    {
     "data": {
      "text/plain": [
       "0"
      ]
     },
     "execution_count": 16,
     "metadata": {},
     "output_type": "execute_result"
    }
   ],
   "source": [
    "NAND(1, 1)"
   ]
  },
  {
   "cell_type": "code",
   "execution_count": 17,
   "id": "fc6234e6",
   "metadata": {},
   "outputs": [
    {
     "data": {
      "text/plain": [
       "1"
      ]
     },
     "execution_count": 17,
     "metadata": {},
     "output_type": "execute_result"
    }
   ],
   "source": [
    "NAND(1, 0)"
   ]
  },
  {
   "cell_type": "code",
   "execution_count": 18,
   "id": "d185518b",
   "metadata": {},
   "outputs": [
    {
     "data": {
      "text/plain": [
       "1"
      ]
     },
     "execution_count": 18,
     "metadata": {},
     "output_type": "execute_result"
    }
   ],
   "source": [
    "NAND(0, 1)"
   ]
  },
  {
   "cell_type": "code",
   "execution_count": 19,
   "id": "dda90994",
   "metadata": {},
   "outputs": [
    {
     "data": {
      "text/plain": [
       "1"
      ]
     },
     "execution_count": 19,
     "metadata": {},
     "output_type": "execute_result"
    }
   ],
   "source": [
    "NAND(0, 0)"
   ]
  },
  {
   "cell_type": "code",
   "execution_count": 20,
   "id": "e3db805b",
   "metadata": {},
   "outputs": [
    {
     "data": {
      "text/plain": [
       "1"
      ]
     },
     "execution_count": 20,
     "metadata": {},
     "output_type": "execute_result"
    }
   ],
   "source": [
    "OR(1, 1)"
   ]
  },
  {
   "cell_type": "code",
   "execution_count": 21,
   "id": "3c12a50b",
   "metadata": {},
   "outputs": [
    {
     "data": {
      "text/plain": [
       "1"
      ]
     },
     "execution_count": 21,
     "metadata": {},
     "output_type": "execute_result"
    }
   ],
   "source": [
    "OR(1, 0)"
   ]
  },
  {
   "cell_type": "code",
   "execution_count": 22,
   "id": "5834ac4b",
   "metadata": {},
   "outputs": [
    {
     "data": {
      "text/plain": [
       "1"
      ]
     },
     "execution_count": 22,
     "metadata": {},
     "output_type": "execute_result"
    }
   ],
   "source": [
    "OR(0, 1)"
   ]
  },
  {
   "cell_type": "code",
   "execution_count": 23,
   "id": "f41b087c",
   "metadata": {},
   "outputs": [
    {
     "data": {
      "text/plain": [
       "0"
      ]
     },
     "execution_count": 23,
     "metadata": {},
     "output_type": "execute_result"
    }
   ],
   "source": [
    "OR(0, 0)"
   ]
  },
  {
   "cell_type": "markdown",
   "id": "53f5a997",
   "metadata": {},
   "source": [
    "그런데, 퍼셉트론은 한계가 있다."
   ]
  },
  {
   "cell_type": "markdown",
   "id": "e344adc0",
   "metadata": {},
   "source": [
    "***"
   ]
  },
  {
   "cell_type": "markdown",
   "id": "ce0b0fff",
   "metadata": {},
   "source": [
    "### 퍼셉트론의 한계\n",
    "(55p 참고)XOR 게이트는 **배타적 논리합**이라는 논리 회로이다. 배타적이라는 것은 자기 외에는 거부한다는 의미임. x1, x2 중 한쪽이 1일 때만 1을 출력한다. 이 XOR 게이트는 퍼셉트론으로 구현할 수 없다. 그래프로 보면 XOR은 선형 그래프로는 구현할 수가 없음. 즉, 단층 퍼셉트론으로는 비선형 영역을 분리할 수 없다.\n",
    "<br>\n",
    "단, 퍼셉트론은 여러 개 쌓아 **다층 퍼셉트론**을 만들 수 있는데, 층을 하나 더 쌓아서 XOR을 구현할 수 있다(58p 참고).(AND, OR, NAND를 조합)"
   ]
  },
  {
   "cell_type": "code",
   "execution_count": 24,
   "id": "dd0ab259",
   "metadata": {},
   "outputs": [],
   "source": [
    "# XOR 구현하기\n",
    "def XOR(x1, x2):\n",
    "    s1 = NAND(x1, x2)\n",
    "    s2 = OR(x1, x2)\n",
    "    y = AND(s1, s2)\n",
    "    return y"
   ]
  },
  {
   "cell_type": "code",
   "execution_count": 25,
   "id": "6cdf44cf",
   "metadata": {},
   "outputs": [
    {
     "data": {
      "text/plain": [
       "0"
      ]
     },
     "execution_count": 25,
     "metadata": {},
     "output_type": "execute_result"
    }
   ],
   "source": [
    "XOR(0, 0)"
   ]
  },
  {
   "cell_type": "code",
   "execution_count": 26,
   "id": "1fcd72e3",
   "metadata": {},
   "outputs": [
    {
     "data": {
      "text/plain": [
       "1"
      ]
     },
     "execution_count": 26,
     "metadata": {},
     "output_type": "execute_result"
    }
   ],
   "source": [
    "XOR(1, 0)"
   ]
  },
  {
   "cell_type": "code",
   "execution_count": 27,
   "id": "65e666dd",
   "metadata": {},
   "outputs": [
    {
     "data": {
      "text/plain": [
       "1"
      ]
     },
     "execution_count": 27,
     "metadata": {},
     "output_type": "execute_result"
    }
   ],
   "source": [
    "XOR(0, 1)"
   ]
  },
  {
   "cell_type": "code",
   "execution_count": 28,
   "id": "061b86a0",
   "metadata": {},
   "outputs": [
    {
     "data": {
      "text/plain": [
       "0"
      ]
     },
     "execution_count": 28,
     "metadata": {},
     "output_type": "execute_result"
    }
   ],
   "source": [
    "XOR(1, 1)"
   ]
  }
 ],
 "metadata": {
  "kernelspec": {
   "display_name": "Python 3 (ipykernel)",
   "language": "python",
   "name": "python3"
  },
  "language_info": {
   "codemirror_mode": {
    "name": "ipython",
    "version": 3
   },
   "file_extension": ".py",
   "mimetype": "text/x-python",
   "name": "python",
   "nbconvert_exporter": "python",
   "pygments_lexer": "ipython3",
   "version": "3.8.12"
  }
 },
 "nbformat": 4,
 "nbformat_minor": 5
}
