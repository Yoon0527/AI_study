{
  "nbformat": 4,
  "nbformat_minor": 0,
  "metadata": {
    "colab": {
      "name": "[Chapter 3] Neural_Network.ipynb",
      "provenance": [],
      "collapsed_sections": []
    },
    "kernelspec": {
      "name": "python3",
      "display_name": "Python 3"
    },
    "language_info": {
      "name": "python"
    }
  },
  "cells": [
    {
      "cell_type": "markdown",
      "source": [
        "# Chapter 3. 신경망"
      ],
      "metadata": {
        "id": "vL7JqSFmCbrH"
      }
    },
    {
      "cell_type": "markdown",
      "source": [
        "|퍼셉트론|좋은소식|나쁜소식|\n",
        "|-|-|-|\n",
        "||복잡한 함수도 다층 퍼셉트론으로 표현할 수 있다.|가중치를 직접 설정해줘야 한다.|"
      ],
      "metadata": {
        "id": "4llD5aPrTU36"
      }
    },
    {
      "cell_type": "markdown",
      "source": [
        "가중치를 직접 설정해줘야 하는 번거로움을 신경망으로 해결할 수 있다. 신경망은 입력층, 은닉층, 출력층으로 구성된다. 여기서 은닉층은 사람의 눈에는 보이지 않는다. 실제로 뉴런이 연결되는 방식은 퍼셉트론과 달라진 것이 없다. "
      ],
      "metadata": {
        "id": "ZnmiHUPsUTRM"
      }
    },
    {
      "cell_type": "markdown",
      "source": [
        "## 활성화 함수\n",
        "퍼셉트론과 신경망의 가장 다른 점 중 하나는 활성화 함수일 것이다. 입력값에 가중치 w가 곱해지고, 편향 b가 더해지는 식의 변천 과정을 통해 활성화 함수를 들여다 보면,\n",
        "1. y = b + x1w1 + x2w2: 이 값이 0을 넘으면 1을 출력, 넘지 않으면 0을 출력한다.\n",
        "2. 위 식을 다시 함수로 적으면, y = h(b + x1w1 +x2w2)이고, 함수 h(x)는 x, 즉 여기서는 b + x1w1 + x2w2가 0을 넘으면 1을, 그렇지 않으면 0을 출력한다. 이는 1번과 같다.\n",
        "3. 여기서 h(x) 함수를 활성화 함수라고 한다. 활성화 함수는 **입력 신호의 총합을 출력 신호로 변환하는 함수**이다. 입력 신호의 총합이 활성화를 일으키는지를 정하는 역할을 한다. 지금까지의 식은 두가지 역할로 나눌 수 있다. \n",
        "  * 가중치가 곱해진 입력 신호의 총합을 계산하고,\n",
        "  * 그 합을 활성화 함수에 입력해 결과를 내는.\n",
        "\n",
        "이걸 식으로 만들어보면, a = b + x1w1 + x2w2, y = h(a)가 된다. 그림으로 보면 훨씬 이해가 잘됨. 밑바닥부터 시작하는 딥러닝 66페이지 참고할 것."
      ],
      "metadata": {
        "id": "WDivKjoFFOIW"
      }
    },
    {
      "cell_type": "markdown",
      "source": [
        "### 계단함수"
      ],
      "metadata": {
        "id": "pKLWTPO-ew2W"
      }
    },
    {
      "cell_type": "code",
      "execution_count": 42,
      "metadata": {
        "id": "ieKWjvD2Svzj"
      },
      "outputs": [],
      "source": [
        "# 계단함수 구현하기\n",
        "# 계단함수는 퍼셉트론에서 사용. 즉 신경망과 퍼셉트론의 차이는 활성화 함수를 뭘 쓰냐의 차이일 수도?\n",
        "\n",
        "def step_function(x):\n",
        "  if x > 0:\n",
        "    return 1\n",
        "  else:\n",
        "    return 0"
      ]
    },
    {
      "cell_type": "markdown",
      "source": [
        "위 함수는 간단하지만 문제가 있음. 인수 x가 실수만 받을 수 있다는 것인데, 예를 들어 step_function(3.0)은 되지만 step_function(np.array([1.0, 2.0]))과 같은 넘파이 배열을 인수로 받을 수는 없다. 이걸 해결하기 위해 다음과 같이 수정할 수 있다."
      ],
      "metadata": {
        "id": "BCxBAd-Pc5E1"
      }
    },
    {
      "cell_type": "code",
      "source": [
        "def step_function(x):\n",
        "  y = x > 0\n",
        "  return y.astype(np.int)"
      ],
      "metadata": {
        "id": "JqZAm3SBdW_q"
      },
      "execution_count": 43,
      "outputs": []
    },
    {
      "cell_type": "code",
      "source": [
        "import numpy as np\n",
        "x = np.array([-1.0, 1.0, 2.0])\n",
        "x"
      ],
      "metadata": {
        "colab": {
          "base_uri": "https://localhost:8080/"
        },
        "id": "ajkiMGD_dtEQ",
        "outputId": "4762cc63-ab11-4c3e-f446-2075312e29d4"
      },
      "execution_count": 44,
      "outputs": [
        {
          "output_type": "execute_result",
          "data": {
            "text/plain": [
              "array([-1.,  1.,  2.])"
            ]
          },
          "metadata": {},
          "execution_count": 44
        }
      ]
    },
    {
      "cell_type": "code",
      "source": [
        "y = x > 0\n",
        "y"
      ],
      "metadata": {
        "colab": {
          "base_uri": "https://localhost:8080/"
        },
        "id": "50Be9Ovid04f",
        "outputId": "1ae618cd-3134-415f-ef20-d4119ade15b4"
      },
      "execution_count": 45,
      "outputs": [
        {
          "output_type": "execute_result",
          "data": {
            "text/plain": [
              "array([False,  True,  True])"
            ]
          },
          "metadata": {},
          "execution_count": 45
        }
      ]
    },
    {
      "cell_type": "markdown",
      "source": [
        "numpy에 부등호 연산을 하면 각각의 원소가 조건에 맞게 bool 결과가 생기고, 이 결과가 배열로 생성된다.  여기서 y가 bool 배열이다. 하지만 계단함수는 int, 즉 0이나 1을 출력하므로 배열 y의 결과를 int형으로 바꿔준다(astype)"
      ],
      "metadata": {
        "id": "-TG0MKLtd7tr"
      }
    },
    {
      "cell_type": "code",
      "source": [
        "y = y.astype(np.int)\n",
        "y"
      ],
      "metadata": {
        "colab": {
          "base_uri": "https://localhost:8080/"
        },
        "id": "ccla8XzFd4wK",
        "outputId": "6251d6e8-2a9b-4c2b-c533-338dac92972c"
      },
      "execution_count": 46,
      "outputs": [
        {
          "output_type": "stream",
          "name": "stderr",
          "text": [
            "/usr/local/lib/python3.7/dist-packages/ipykernel_launcher.py:1: DeprecationWarning: `np.int` is a deprecated alias for the builtin `int`. To silence this warning, use `int` by itself. Doing this will not modify any behavior and is safe. When replacing `np.int`, you may wish to use e.g. `np.int64` or `np.int32` to specify the precision. If you wish to review your current use, check the release note link for additional information.\n",
            "Deprecated in NumPy 1.20; for more details and guidance: https://numpy.org/devdocs/release/1.20.0-notes.html#deprecations\n",
            "  \"\"\"Entry point for launching an IPython kernel.\n"
          ]
        },
        {
          "output_type": "execute_result",
          "data": {
            "text/plain": [
              "array([0, 1, 1])"
            ]
          },
          "metadata": {},
          "execution_count": 46
        }
      ]
    },
    {
      "cell_type": "markdown",
      "source": [
        "넘파이 자료형을 변환할 땐 astype() 메서드를 이용한다. "
      ],
      "metadata": {
        "id": "B9sE9CJRelWn"
      }
    },
    {
      "cell_type": "code",
      "source": [
        "# 계단함수의 그래프\n",
        "import matplotlib.pyplot as plt\n",
        "import numpy as np\n",
        "def step_function(x):\n",
        "  return np.array(x > 0, dtype=np.int)\n",
        "\n",
        "x = np.arange(-5.0, 5.0, 0.1) # -5.0에서 5.0 전까지 0.1 간격의 넘파이 배열을 생성한다. [-5.0, -4.9, -4.8, ... , 4.9]\n",
        "y = step_function(x)\n",
        "plt.plot(x, y)\n",
        "plt.ylim(-0.1, 1.1) # y축의 범위 지정\n",
        "plt.show()"
      ],
      "metadata": {
        "colab": {
          "base_uri": "https://localhost:8080/",
          "height": 337
        },
        "id": "E6gjAcaYegda",
        "outputId": "fb164a3f-1bca-4737-b00c-1fca2721f9c0"
      },
      "execution_count": 47,
      "outputs": [
        {
          "output_type": "stream",
          "name": "stderr",
          "text": [
            "/usr/local/lib/python3.7/dist-packages/ipykernel_launcher.py:5: DeprecationWarning: `np.int` is a deprecated alias for the builtin `int`. To silence this warning, use `int` by itself. Doing this will not modify any behavior and is safe. When replacing `np.int`, you may wish to use e.g. `np.int64` or `np.int32` to specify the precision. If you wish to review your current use, check the release note link for additional information.\n",
            "Deprecated in NumPy 1.20; for more details and guidance: https://numpy.org/devdocs/release/1.20.0-notes.html#deprecations\n",
            "  \"\"\"\n"
          ]
        },
        {
          "output_type": "display_data",
          "data": {
            "text/plain": [
              "<Figure size 432x288 with 1 Axes>"
            ],
            "image/png": "[encoded data removed]"
          },
          "metadata": {
            "needs_background": "light"
          }
        }
      ]
    },
    {
      "cell_type": "markdown",
      "source": [
        "### 시그모이드 함수"
      ],
      "metadata": {
        "id": "5zl5cT-xf328"
      }
    },
    {
      "cell_type": "code",
      "source": [
        "def sigmoid(x):\n",
        "  return 1/(1 + np.exp(-x))"
      ],
      "metadata": {
        "id": "sG3ce-98fZNu"
      },
      "execution_count": 48,
      "outputs": []
    },
    {
      "cell_type": "code",
      "source": [
        "x = np.array([-1.0, 1.0, 2.0])\n",
        "sigmoid(x)"
      ],
      "metadata": {
        "colab": {
          "base_uri": "https://localhost:8080/"
        },
        "id": "nmo1qC4agC80",
        "outputId": "b161b1f6-b0bb-4b36-da4a-eba5ee96f13d"
      },
      "execution_count": 49,
      "outputs": [
        {
          "output_type": "execute_result",
          "data": {
            "text/plain": [
              "array([0.26894142, 0.73105858, 0.88079708])"
            ]
          },
          "metadata": {},
          "execution_count": 49
        }
      ]
    },
    {
      "cell_type": "markdown",
      "source": [
        "* 브로드캐스트\n",
        "  * 위 함수가 넘파이 배열도 잘 처리할 수 있는 이유는 넘파이의 브로드캐스트에 있다. \n",
        "  * 넘파이에서는 형상이 다른 배열끼리도 계산할 수 있다. \n",
        "  * 예를 들어 2X2 행렬 A에 스칼라값 10을 곱하면, 10이라는 스칼라값이 2X2 행렬로 확대된 후 연산이 이루어진다. 이 기능을 브로드캐스트(broadcast)라고 한다.\n",
        "\n",
        "> 스칼라값이란?<br>하나의 숫자로만 표시되는 양. 즉 단지 크기만 있는 물리량이다. 벡터, 텐서 등이 방향과 크기가 있는 물리량인데 비해 **방향의 구별이 없는 수량이다.** 예를 들어 스칼라값은 |-1|, |2|등으로 표기되는 **절대값**이고, 벡터는 +3, -4, +2 등 방향까지 포함된 값으로 볼 수 있다.<br>출처:https://ko.wikipedia.org/wiki/%EC%8A%A4%EC%B9%BC%EB%9D%BC_(%EB%AC%BC%EB%A6%AC)\n",
        "\n",
        "즉, 브로드캐스트 기능이란 넘파이 배열과 스칼라값의 연산을 넘파이 배열의 원소 각각과 스칼라값의 연산으로 바꿔 수행하는 것이다."
      ],
      "metadata": {
        "id": "fdx2Oj28gWfZ"
      }
    },
    {
      "cell_type": "code",
      "source": [
        "# 브로드캐스트 예시\n",
        "t = np.array([1.0, 2.0, 3.0])\n",
        "1.0 + t"
      ],
      "metadata": {
        "colab": {
          "base_uri": "https://localhost:8080/"
        },
        "id": "adRcKodqgKJH",
        "outputId": "05be7dd5-2dda-4e26-f5a9-e82f867880e2"
      },
      "execution_count": 50,
      "outputs": [
        {
          "output_type": "execute_result",
          "data": {
            "text/plain": [
              "array([2., 3., 4.])"
            ]
          },
          "metadata": {},
          "execution_count": 50
        }
      ]
    },
    {
      "cell_type": "code",
      "source": [
        "1.0 / t"
      ],
      "metadata": {
        "colab": {
          "base_uri": "https://localhost:8080/"
        },
        "id": "RecYVcAEiK1m",
        "outputId": "fc70e5b7-7670-4870-c6e9-8d578a6b3ee5"
      },
      "execution_count": 51,
      "outputs": [
        {
          "output_type": "execute_result",
          "data": {
            "text/plain": [
              "array([1.        , 0.5       , 0.33333333])"
            ]
          },
          "metadata": {},
          "execution_count": 51
        }
      ]
    },
    {
      "cell_type": "markdown",
      "source": [
        "임의의 스칼라값과 넘파이 배열의 각 원소의 연산이 이루어지는 것을 확인할 수 있다. 앞서 구현한 sigmoid 함수에서도 np.exp(-x)가 넘파이 배열을 반환하기 때문에, 1 / (1 + np.exp(-x))도 넘파이 각 원소에 연산한 결과를 반환한다."
      ],
      "metadata": {
        "id": "lfm1IijEiULN"
      }
    },
    {
      "cell_type": "code",
      "source": [
        "# 시그모이드 그래프\n",
        "x = np.arange(-5.0, 5.0, 0.1)\n",
        "y = sigmoid(x)\n",
        "plt.plot(x, y)\n",
        "plt.ylim(-0.1, 1.1)\n",
        "plt.show()"
      ],
      "metadata": {
        "colab": {
          "base_uri": "https://localhost:8080/",
          "height": 265
        },
        "id": "sETZUdCeiOQT",
        "outputId": "decc8a78-19da-4fda-d2a8-59c028e6b0d5"
      },
      "execution_count": 52,
      "outputs": [
        {
          "output_type": "display_data",
          "data": {
            "text/plain": [
              "<Figure size 432x288 with 1 Axes>"
            ],
            "image/png": "[encoded data removed]"
          },
          "metadata": {
            "needs_background": "light"
          }
        }
      ]
    },
    {
      "cell_type": "markdown",
      "source": [
        "### ReLU 함수\n",
        "최근에 많이 쓰이는 함수. Rectified Linear Unit, 즉 ReLU 함수는 입력이 0을 넘으면 입력을 그대로 출력하고, 0 이하면 0을 출력한다. \n",
        "\n",
        "ReLU에서 Rectified란 '정류된'이란 뜻이다. 전기회로 쪽 용어인데, 예를 들어 반파정류회로(Half-Wave Rectified Circuit)는 +/- 가 반복되는 교류에서 -흐름을 차단하는 회로이다. 이 개념으로 ReLU 함수를 보면 0이하의 값을 차단해 0을 출력하는 것과 같은 류의 느낌인 것 같다. "
      ],
      "metadata": {
        "id": "qwhcnSu-mQbt"
      }
    },
    {
      "cell_type": "code",
      "source": [
        "import numpy as np\n",
        "def relu(x):\n",
        "  return np.maximum(0, x)"
      ],
      "metadata": {
        "id": "RufypPO5i6VJ"
      },
      "execution_count": 53,
      "outputs": []
    },
    {
      "cell_type": "code",
      "source": [
        "relu(-1)"
      ],
      "metadata": {
        "colab": {
          "base_uri": "https://localhost:8080/"
        },
        "id": "5wrC65GVn-JE",
        "outputId": "d5535d2b-c157-4f61-b69c-11ba8334bc84"
      },
      "execution_count": 54,
      "outputs": [
        {
          "output_type": "execute_result",
          "data": {
            "text/plain": [
              "0"
            ]
          },
          "metadata": {},
          "execution_count": 54
        }
      ]
    },
    {
      "cell_type": "code",
      "source": [
        "relu(1)"
      ],
      "metadata": {
        "colab": {
          "base_uri": "https://localhost:8080/"
        },
        "id": "pgdAEk6ToCIP",
        "outputId": "3a2ba24e-af54-4f98-d1e7-c5dfc774dadf"
      },
      "execution_count": 55,
      "outputs": [
        {
          "output_type": "execute_result",
          "data": {
            "text/plain": [
              "1"
            ]
          },
          "metadata": {},
          "execution_count": 55
        }
      ]
    },
    {
      "cell_type": "code",
      "source": [
        "relu(10)"
      ],
      "metadata": {
        "colab": {
          "base_uri": "https://localhost:8080/"
        },
        "id": "Ud2zuWt2oHOo",
        "outputId": "d44c9796-63d5-41c8-9709-4efc4cf87313"
      },
      "execution_count": 56,
      "outputs": [
        {
          "output_type": "execute_result",
          "data": {
            "text/plain": [
              "10"
            ]
          },
          "metadata": {},
          "execution_count": 56
        }
      ]
    },
    {
      "cell_type": "code",
      "source": [
        "relu(-10)"
      ],
      "metadata": {
        "colab": {
          "base_uri": "https://localhost:8080/"
        },
        "id": "SgEL0T2yoIbF",
        "outputId": "02b5a8f2-3981-416b-9baf-9978f8deac1f"
      },
      "execution_count": 57,
      "outputs": [
        {
          "output_type": "execute_result",
          "data": {
            "text/plain": [
              "0"
            ]
          },
          "metadata": {},
          "execution_count": 57
        }
      ]
    },
    {
      "cell_type": "code",
      "source": [
        "# ReLU 그래프\n",
        "import matplotlib.pyplot as plt\n",
        "x = np.arange(-5.0, 5.0, 0.01)\n",
        "y = relu(x)\n",
        "plt.plot(x, y)\n",
        "plt.ylim(-1.1, 6.0) # y축 범위\n",
        "plt.show()"
      ],
      "metadata": {
        "colab": {
          "base_uri": "https://localhost:8080/",
          "height": 269
        },
        "id": "qYAmvMRboJ2Z",
        "outputId": "219ea9f1-7042-4ab7-fa06-068bdc4422f3"
      },
      "execution_count": 58,
      "outputs": [
        {
          "output_type": "display_data",
          "data": {
            "text/plain": [
              "<Figure size 432x288 with 1 Axes>"
            ],
            "image/png": "[encoded data removed]"
          },
          "metadata": {
            "needs_background": "light"
          }
        }
      ]
    },
    {
      "cell_type": "markdown",
      "source": [
        "## 다차원 배열의 계산\n",
        "넘파이의 다차원 배열을 사용한 계산법을 숙달하면 신경망을 효율적으로 구현할 수 있다. \n",
        "* 다차원 배열\n",
        "  * 다차원 배열도 그 기본은 숫자의 집합이다. \n",
        "  * 숫자가 한 줄로 늘어선 것이나 직사각형으로 늘어놓은 것, 3차원으로 늘어놓은 것이나 (더 일반화한) N차원으로 나열하는 것을 통틀어 다차원 배열이라고 한다. "
      ],
      "metadata": {
        "id": "oqbXeM0Opj_I"
      }
    },
    {
      "cell_type": "code",
      "source": [
        "# 넘파이를 이용한 다차원 배열 작성\n",
        "# 일단 1차원\n",
        "import numpy as np\n",
        "A = np.array([1, 2, 3, 4])\n",
        "print(A)"
      ],
      "metadata": {
        "colab": {
          "base_uri": "https://localhost:8080/"
        },
        "id": "eFE0gDrlos_e",
        "outputId": "a9a58dee-ef75-475a-a62b-41ea2416feec"
      },
      "execution_count": 59,
      "outputs": [
        {
          "output_type": "stream",
          "name": "stdout",
          "text": [
            "[1 2 3 4]\n"
          ]
        }
      ]
    },
    {
      "cell_type": "code",
      "source": [
        "# 배열의 차원수\n",
        "np.ndim(A)"
      ],
      "metadata": {
        "colab": {
          "base_uri": "https://localhost:8080/"
        },
        "id": "3fYmDvwJqfhr",
        "outputId": "093eeec7-3883-438c-f94a-c3f768c5bf10"
      },
      "execution_count": 60,
      "outputs": [
        {
          "output_type": "execute_result",
          "data": {
            "text/plain": [
              "1"
            ]
          },
          "metadata": {},
          "execution_count": 60
        }
      ]
    },
    {
      "cell_type": "code",
      "source": [
        "# 배열의 형상\n",
        "A.shape"
      ],
      "metadata": {
        "colab": {
          "base_uri": "https://localhost:8080/"
        },
        "id": "zSzG3rLrqhl0",
        "outputId": "e22908aa-82ea-4ecf-ee30-011dee1355d8"
      },
      "execution_count": 61,
      "outputs": [
        {
          "output_type": "execute_result",
          "data": {
            "text/plain": [
              "(4,)"
            ]
          },
          "metadata": {},
          "execution_count": 61
        }
      ]
    },
    {
      "cell_type": "code",
      "source": [
        "A.shape[0]"
      ],
      "metadata": {
        "colab": {
          "base_uri": "https://localhost:8080/"
        },
        "id": "hKb8yHT7qlvf",
        "outputId": "2cb481be-2d11-408c-f66e-1eed1fa9b9c9"
      },
      "execution_count": 62,
      "outputs": [
        {
          "output_type": "execute_result",
          "data": {
            "text/plain": [
              "4"
            ]
          },
          "metadata": {},
          "execution_count": 62
        }
      ]
    },
    {
      "cell_type": "code",
      "source": [
        "# 2차원 배열\n",
        "B = np.array([[1, 2], [3, 4], [5, 6]])\n",
        "print(B)"
      ],
      "metadata": {
        "colab": {
          "base_uri": "https://localhost:8080/"
        },
        "id": "M4zL2kMAq_Y8",
        "outputId": "0c59ec74-08d6-4a04-a848-47c6587b1b40"
      },
      "execution_count": 63,
      "outputs": [
        {
          "output_type": "stream",
          "name": "stdout",
          "text": [
            "[[1 2]\n",
            " [3 4]\n",
            " [5 6]]\n"
          ]
        }
      ]
    },
    {
      "cell_type": "code",
      "source": [
        "np.ndim(B)"
      ],
      "metadata": {
        "colab": {
          "base_uri": "https://localhost:8080/"
        },
        "id": "8v-kz7NWrR43",
        "outputId": "65849d44-68bf-4bed-aff9-316343a40c19"
      },
      "execution_count": 64,
      "outputs": [
        {
          "output_type": "execute_result",
          "data": {
            "text/plain": [
              "2"
            ]
          },
          "metadata": {},
          "execution_count": 64
        }
      ]
    },
    {
      "cell_type": "code",
      "source": [
        "B.shape"
      ],
      "metadata": {
        "colab": {
          "base_uri": "https://localhost:8080/"
        },
        "id": "IcyJLcSQraHg",
        "outputId": "c05691df-dec0-42be-cadf-bdd547c1936c"
      },
      "execution_count": 65,
      "outputs": [
        {
          "output_type": "execute_result",
          "data": {
            "text/plain": [
              "(3, 2)"
            ]
          },
          "metadata": {},
          "execution_count": 65
        }
      ]
    },
    {
      "cell_type": "markdown",
      "source": [
        "B는 3X2 배열이다. 처음 차원에는 원소 3개, 그 다음 차원에는 각각 원소가 2개 있다는 뜻임. 2차원 배열은 특히 행렬이라고 부른다. "
      ],
      "metadata": {
        "id": "6CxPpwpasqHj"
      }
    },
    {
      "cell_type": "markdown",
      "source": [
        "### 행렬의 곱\n",
        "행렬 곱은 왼쪽 행렬의 행과 오른쪽 행렬의 열을 원소별로 곱하고 그 값들을 더해서 계산한다. 그 계산 결과가 새로운 다차원 배열의 원소가 된다. "
      ],
      "metadata": {
        "id": "JiTbVzLds7nV"
      }
    },
    {
      "cell_type": "code",
      "source": [
        "# 행렬의 곱\n",
        "A = np.array([[1, 2], [3, 4]])\n",
        "A.shape"
      ],
      "metadata": {
        "colab": {
          "base_uri": "https://localhost:8080/"
        },
        "id": "v5kfMLy5rbte",
        "outputId": "6ef0ce57-b198-4e0c-ffaa-5b338a7423c3"
      },
      "execution_count": 66,
      "outputs": [
        {
          "output_type": "execute_result",
          "data": {
            "text/plain": [
              "(2, 2)"
            ]
          },
          "metadata": {},
          "execution_count": 66
        }
      ]
    },
    {
      "cell_type": "code",
      "source": [
        "B = np.array([[5, 6], [7, 8]])\n",
        "B.shape"
      ],
      "metadata": {
        "colab": {
          "base_uri": "https://localhost:8080/"
        },
        "id": "ymiPy9tbtiDp",
        "outputId": "55119e6d-b6c9-4b9b-ccc4-7011b4b0bb39"
      },
      "execution_count": 67,
      "outputs": [
        {
          "output_type": "execute_result",
          "data": {
            "text/plain": [
              "(2, 2)"
            ]
          },
          "metadata": {},
          "execution_count": 67
        }
      ]
    },
    {
      "cell_type": "code",
      "source": [
        "np.dot(A, B)"
      ],
      "metadata": {
        "colab": {
          "base_uri": "https://localhost:8080/"
        },
        "id": "wFJXfRCutoDO",
        "outputId": "a18a9445-27e0-44bf-d88e-4a9cc008459f"
      },
      "execution_count": 68,
      "outputs": [
        {
          "output_type": "execute_result",
          "data": {
            "text/plain": [
              "array([[19, 22],\n",
              "       [43, 50]])"
            ]
          },
          "metadata": {},
          "execution_count": 68
        }
      ]
    },
    {
      "cell_type": "markdown",
      "source": [
        "위에서는 2X2 행렬의 곱이고, 다른 형상의 행렬의 곱도 계산할 수 있는데, 행렬의 형상에 주의해야 한다. **첫번째 행렬의 첫번째 차원의 원소 수(열 수)와 두번째 행렬의 0번째 차원의 원소 수(행 수)가 같아야한다.** 2X3과 3X2의 곱은 가능하지만 2X3, 2X2행렬은 안됨."
      ],
      "metadata": {
        "id": "LU1WMAWfuEq0"
      }
    },
    {
      "cell_type": "code",
      "source": [
        "A = np.array([[1,2,3], [4,5,6]])\n",
        "A.shape"
      ],
      "metadata": {
        "colab": {
          "base_uri": "https://localhost:8080/"
        },
        "id": "6_fLTmhntqkO",
        "outputId": "8eb3a005-6f5a-4c43-8f99-c4947b57927d"
      },
      "execution_count": 69,
      "outputs": [
        {
          "output_type": "execute_result",
          "data": {
            "text/plain": [
              "(2, 3)"
            ]
          },
          "metadata": {},
          "execution_count": 69
        }
      ]
    },
    {
      "cell_type": "code",
      "source": [
        "B = np.array([[1,2],[3,4],[5,6]])\n",
        "B.shape"
      ],
      "metadata": {
        "colab": {
          "base_uri": "https://localhost:8080/"
        },
        "id": "Vin6GtN1u4Yt",
        "outputId": "391150e6-620e-4341-b65a-28d8a1528863"
      },
      "execution_count": 70,
      "outputs": [
        {
          "output_type": "execute_result",
          "data": {
            "text/plain": [
              "(3, 2)"
            ]
          },
          "metadata": {},
          "execution_count": 70
        }
      ]
    },
    {
      "cell_type": "code",
      "source": [
        "np.dot(A, B)"
      ],
      "metadata": {
        "colab": {
          "base_uri": "https://localhost:8080/"
        },
        "id": "HwLaWpKQu9dX",
        "outputId": "fb2216e3-956d-4139-ea78-290244b4511f"
      },
      "execution_count": 71,
      "outputs": [
        {
          "output_type": "execute_result",
          "data": {
            "text/plain": [
              "array([[22, 28],\n",
              "       [49, 64]])"
            ]
          },
          "metadata": {},
          "execution_count": 71
        }
      ]
    },
    {
      "cell_type": "code",
      "source": [
        "# 행렬 곱이 안되는 경우\n",
        "C = np.array([[1,2], [3,4]])\n",
        "C.shape"
      ],
      "metadata": {
        "colab": {
          "base_uri": "https://localhost:8080/"
        },
        "id": "c--p31XRu_88",
        "outputId": "897d28d4-cbf7-4c75-ef5f-f2ff7b54a536"
      },
      "execution_count": 72,
      "outputs": [
        {
          "output_type": "execute_result",
          "data": {
            "text/plain": [
              "(2, 2)"
            ]
          },
          "metadata": {},
          "execution_count": 72
        }
      ]
    },
    {
      "cell_type": "code",
      "source": [
        "np.dot(A, C)"
      ],
      "metadata": {
        "colab": {
          "base_uri": "https://localhost:8080/",
          "height": 201
        },
        "id": "yp711zwEvK9p",
        "outputId": "ad6e021f-c79f-43d4-eb7a-958eab802f5f"
      },
      "execution_count": 73,
      "outputs": [
        {
          "output_type": "error",
          "ename": "ValueError",
          "evalue": "ignored",
          "traceback": [
            "\u001b[0;31m---------------------------------------------------------------------------\u001b[0m",
            "\u001b[0;31mValueError\u001b[0m                                Traceback (most recent call last)",
            "\u001b[0;32m<ipython-input-73-bb5afb89b162>\u001b[0m in \u001b[0;36m<module>\u001b[0;34m()\u001b[0m\n\u001b[0;32m----> 1\u001b[0;31m \u001b[0mnp\u001b[0m\u001b[0;34m.\u001b[0m\u001b[0mdot\u001b[0m\u001b[0;34m(\u001b[0m\u001b[0mA\u001b[0m\u001b[0;34m,\u001b[0m \u001b[0mC\u001b[0m\u001b[0;34m)\u001b[0m\u001b[0;34m\u001b[0m\u001b[0;34m\u001b[0m\u001b[0m\n\u001b[0m",
            "\u001b[0;32m<__array_function__ internals>\u001b[0m in \u001b[0;36mdot\u001b[0;34m(*args, **kwargs)\u001b[0m\n",
            "\u001b[0;31mValueError\u001b[0m: shapes (2,3) and (2,2) not aligned: 3 (dim 1) != 2 (dim 0)"
          ]
        }
      ]
    },
    {
      "cell_type": "markdown",
      "source": [
        "### 신경망에서의 행렬 곱"
      ],
      "metadata": {
        "id": "laogZBinwrCf"
      }
    },
    {
      "cell_type": "markdown",
      "source": [
        "![스크린샷 2022-03-26 오전 12.54.03.png](data:image/png;base64,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)\n",
        "\n",
        "출처:https://yeowool0217.tistory.com/503"
      ],
      "metadata": {
        "id": "RKZxqHwvyRie"
      }
    },
    {
      "cell_type": "code",
      "source": [
        "# 구현\n",
        "# X, W, Y의 형상을 주의해서 볼 것\n",
        "# 특히 X와 W의 대응하는 차원의 원소 수가 같아야 한다!\n",
        "X = np.array([1, 2])\n",
        "X.shape"
      ],
      "metadata": {
        "colab": {
          "base_uri": "https://localhost:8080/"
        },
        "id": "OJ4yJhChvMde",
        "outputId": "438221ed-46b0-49d5-b134-6dca8054d64e"
      },
      "execution_count": 74,
      "outputs": [
        {
          "output_type": "execute_result",
          "data": {
            "text/plain": [
              "(2,)"
            ]
          },
          "metadata": {},
          "execution_count": 74
        }
      ]
    },
    {
      "cell_type": "code",
      "source": [
        "W = np.array([[1,2,3], [4,5,6]])\n",
        "W.shape"
      ],
      "metadata": {
        "colab": {
          "base_uri": "https://localhost:8080/"
        },
        "id": "_ksVpXU1y7FG",
        "outputId": "2b081bfc-cbab-4065-c174-d1f2cd10ed4b"
      },
      "execution_count": 75,
      "outputs": [
        {
          "output_type": "execute_result",
          "data": {
            "text/plain": [
              "(2, 3)"
            ]
          },
          "metadata": {},
          "execution_count": 75
        }
      ]
    },
    {
      "cell_type": "code",
      "source": [
        "Y = np.dot(X, W)\n",
        "print(Y)"
      ],
      "metadata": {
        "colab": {
          "base_uri": "https://localhost:8080/"
        },
        "id": "6MueMl_MzAcl",
        "outputId": "b8ee725b-cb36-47f9-ae87-e7b108288ba9"
      },
      "execution_count": 76,
      "outputs": [
        {
          "output_type": "stream",
          "name": "stdout",
          "text": [
            "[ 9 12 15]\n"
          ]
        }
      ]
    },
    {
      "cell_type": "code",
      "source": [
        "W = np.array([[1,3,5], [2,4,6]])"
      ],
      "metadata": {
        "id": "LleB1zuGzPVS"
      },
      "execution_count": 77,
      "outputs": []
    },
    {
      "cell_type": "code",
      "source": [
        "Y = np.dot(X, W)\n",
        "print(Y)"
      ],
      "metadata": {
        "colab": {
          "base_uri": "https://localhost:8080/"
        },
        "id": "1z9A6NOMzWET",
        "outputId": "e56d8b42-d33b-4003-adf9-2870c08e054d"
      },
      "execution_count": 78,
      "outputs": [
        {
          "output_type": "stream",
          "name": "stdout",
          "text": [
            "[ 5 11 17]\n"
          ]
        }
      ]
    },
    {
      "cell_type": "markdown",
      "source": [
        "## 3층 신경망 구현하기\n",
        "핵심은 신경망에서의 계산을 행렬 계산으로 정리할 수 있다는 것이다. 자세한 내용은 책 83~85 페이지를 참고하자."
      ],
      "metadata": {
        "id": "Zj8XaWI2062k"
      }
    },
    {
      "cell_type": "code",
      "source": [
        "X = np.array([1.0, 0.5])\n",
        "W1 = np.array([[0.1, 0.3, 0.5], [0.2, 0.4, 0.6]])\n",
        "B1 = np.array([0.1, 0.2, 0.3])\n",
        "\n",
        "print(W1.shape)\n",
        "print(X.shape)\n",
        "print(B1.shape)\n",
        "\n",
        "A1 = np.dot(X, W1) + B1\n",
        "print(A1)"
      ],
      "metadata": {
        "colab": {
          "base_uri": "https://localhost:8080/"
        },
        "id": "a81SyTtzzY8l",
        "outputId": "7f423dd2-6cf3-4fdb-ab22-9a4fe2ac6f16"
      },
      "execution_count": 79,
      "outputs": [
        {
          "output_type": "stream",
          "name": "stdout",
          "text": [
            "(2, 3)\n",
            "(2,)\n",
            "(3,)\n",
            "[0.3 0.7 1.1]\n"
          ]
        }
      ]
    },
    {
      "cell_type": "code",
      "source": [
        "# 활성화 함수(여기서는 시그모이드) 추가\n",
        "Z1 = sigmoid(A1)\n",
        "\n",
        "print(A1)\n",
        "print(Z1)"
      ],
      "metadata": {
        "colab": {
          "base_uri": "https://localhost:8080/"
        },
        "id": "CqUMsl784AL3",
        "outputId": "b911488c-3e5e-4edd-f20a-32c98c4f1c40"
      },
      "execution_count": 80,
      "outputs": [
        {
          "output_type": "stream",
          "name": "stdout",
          "text": [
            "[0.3 0.7 1.1]\n",
            "[0.57444252 0.66818777 0.75026011]\n"
          ]
        }
      ]
    },
    {
      "cell_type": "markdown",
      "source": [
        "지금까지는 입력층인 0층에서 바로 다음 은닉층인 1층으로 넘어가는 과정이고, 이번엔 1층에서 2층으로 넘어가는 과정을 구현해보자"
      ],
      "metadata": {
        "id": "-77tb68F7Yos"
      }
    },
    {
      "cell_type": "code",
      "source": [
        "# 1층에서 2층으로 가는 과정\n",
        "W2 = np.array([[0.1, 0.4], [0.2, 0.5], [0.3, 0.6]])\n",
        "B2 = np.array([0.1, 0.2])\n",
        "\n",
        "print(Z1.shape)\n",
        "print(W2.shape)\n",
        "print(B2.shape)\n",
        "\n",
        "A2 = np.dot(Z1, W2) + B2\n",
        "Z2 = sigmoid(A2)"
      ],
      "metadata": {
        "colab": {
          "base_uri": "https://localhost:8080/"
        },
        "id": "iwkCSJIU7Ovo",
        "outputId": "bccec160-e911-4184-9caf-3f3c5a559d70"
      },
      "execution_count": 81,
      "outputs": [
        {
          "output_type": "stream",
          "name": "stdout",
          "text": [
            "(3,)\n",
            "(3, 2)\n",
            "(2,)\n"
          ]
        }
      ]
    },
    {
      "cell_type": "code",
      "source": [
        "print(A2)\n",
        "print(Z2)"
      ],
      "metadata": {
        "colab": {
          "base_uri": "https://localhost:8080/"
        },
        "id": "Javr6j4a8D3k",
        "outputId": "95fee422-a689-403d-e66b-06b9ece0c68a"
      },
      "execution_count": 82,
      "outputs": [
        {
          "output_type": "stream",
          "name": "stdout",
          "text": [
            "[0.51615984 1.21402696]\n",
            "[0.62624937 0.7710107 ]\n"
          ]
        }
      ]
    },
    {
      "cell_type": "markdown",
      "source": [
        "1층의 출력인 Z1이 2층의 입력이 되는 것에 유의하자. \n",
        "\n",
        "마지막으로 2층에서 출력층으로의 신호 전달을 구현해보자. 단, 출력층에서 사용하는 활성화 함수가 다른 것을 참고할 것!"
      ],
      "metadata": {
        "id": "8hC8pHvN8avX"
      }
    },
    {
      "cell_type": "code",
      "source": [
        "# 항등함수인 identity_function() 정의, 입력을 그대로 출력하는 함수\n",
        "# 이를 출력층의 활성화 함수로 이용\n",
        "\n",
        "def identity_function(x):\n",
        "  return X\n",
        "\n",
        "W3 = np.array([[0.1, 0.3], [0.2, 0.4]])\n",
        "B3 = np.array([0.1, 0.2])\n",
        "\n",
        "A3 = np.dot(Z2, W3) + B3\n",
        "Y = identity_function(A3)\n",
        "\n",
        "print(Y)"
      ],
      "metadata": {
        "colab": {
          "base_uri": "https://localhost:8080/"
        },
        "id": "i0kaDsMs8HP5",
        "outputId": "5db9f630-edeb-4134-8add-6d1adf8e42ed"
      },
      "execution_count": 84,
      "outputs": [
        {
          "output_type": "stream",
          "name": "stdout",
          "text": [
            "[1.  0.5]\n"
          ]
        }
      ]
    },
    {
      "cell_type": "markdown",
      "source": [
        "출력층의 활성화 함수는 풀고자 하는 문제의 성질에 맞게 정한다. 예를 들어 회귀에는 항등함수, 2클래스 분류에는 시그모이드, 다중 클래스 분류에는 소프트맥스 함수를 사용하는 것이 일반적이다. "
      ],
      "metadata": {
        "id": "0tTSv8vf-jUi"
      }
    },
    {
      "cell_type": "markdown",
      "source": [
        "### 구현 정리\n",
        "지금까지 구현을 정리해보자. 신경망 구현의 관례에 따라 가중치만 W1과 같이 대문자로 쓰고, 그 외 편향과 중간 결과 등은 모두 소문자로 쓴다."
      ],
      "metadata": {
        "id": "H13C9MoZ-zhS"
      }
    },
    {
      "cell_type": "code",
      "source": [
        "import numpy as np\n",
        "\n",
        "def sigmoid(x):\n",
        "    return 1/(1 + np.exp(-x))\n",
        "\n",
        "def identity_function(x):\n",
        "    return x"
      ],
      "metadata": {
        "id": "RhTAe_BNBRSM"
      },
      "execution_count": 87,
      "outputs": []
    },
    {
      "cell_type": "code",
      "source": [
        "def init_network():\n",
        "  network = {}\n",
        "  network['W1'] = np.array([[0.1, 0.3, 0.5], [0.2, 0.4, 0.6]])\n",
        "  network['b1'] = np.array([0.1, 0.2, 0.3])\n",
        "  network['W2'] = np.array([[0.1, 0.4], [0.2, 0.5], [0.3, 0.6]])\n",
        "  network['b2'] = np.array([0.1, 0.2])\n",
        "  network['W3'] = np.array([[0.1, 0.3], [0.2, 0.4]])\n",
        "  network['b3'] = np.array([0.1, 0.2])\n",
        "\n",
        "  return network\n",
        "\n",
        "def forward(network, x):\n",
        "  W1, W2, W3 = network['W1'], network['W2'], network['W3']\n",
        "  b1, b2, b3 = network['b1'], network['b2'], network['b3']\n",
        "\n",
        "  a1 = np.dot(x, W1) + b1\n",
        "  z1 = sigmoid(a1)\n",
        "  a2 = np.dot(z1, W2) + b2\n",
        "  z2 = sigmoid(a2)\n",
        "  a3 = np.dot(z2, W3) + b3\n",
        "  y = identity_function(a3)\n",
        "\n",
        "  return y\n",
        "\n",
        "network = init_network()\n",
        "x = np.array([1.0, 0.5])\n",
        "y = forward(network, x)\n",
        "print(y)"
      ],
      "metadata": {
        "colab": {
          "base_uri": "https://localhost:8080/"
        },
        "id": "_u_J6KvRCPcl",
        "outputId": "1fee6a96-b97e-4ec8-97c6-e0163d789579"
      },
      "execution_count": 88,
      "outputs": [
        {
          "output_type": "stream",
          "name": "stdout",
          "text": [
            "[0.31682708 0.69627909]\n"
          ]
        }
      ]
    },
    {
      "cell_type": "markdown",
      "source": [
        "* init_network\n",
        "  * 가중치와 편향을 초기화\n",
        "  * 이들을 딕셔너리 변수인 network에 저장한다.\n",
        "  * 이 딕셔너리 변수 network에는 각 층에 필요한 매개변수(가중치, 편향)을 저장\n",
        "\n",
        "* forward()\n",
        "  * 입력 신호를 출력으로 변환하는 처리 과정을 구현\n",
        "\n",
        "forward라는 이름의 이유는 순전파(입력에서 출력 방향)라는 것을 알리기 위함임."
      ],
      "metadata": {
        "id": "3gtkslV5Dn5G"
      }
    },
    {
      "cell_type": "markdown",
      "source": [
        "> 기계학습 문제는 분류(Classification)와 회귀(Regression)로 나뉜다. 분류는 데이터가 어느 클래스에 속하는지를 구분하는 문제, 회귀는 입력 데이터에서 수치를 예측하는 문제이다.\n",
        "\n",
        "> 회귀<br>회귀라는 이름의 기원은 19세기 후반 영국의 우생학자 프랜시스 골턴 경이 사람과 완두콩 등을 대상으로 그 키를 측정했다. 관찰 결과 키가 큰 부모의 자식은 부모보다 작고 작은 부모의 자식은 부모보다 큰, 즉 평균으로 회귀(Regression)하는 경향이 있음을 알았다. 그 사이에는 선형 관계가 있어 부모의 키로부터 자식의 키를 예측할 수 있고, 그 예측 결괏값이 연속적인 수치인 것이다."
      ],
      "metadata": {
        "id": "cRIKiXJzEIlo"
      }
    },
    {
      "cell_type": "markdown",
      "source": [
        "### 항등 함수와 소프트맥스 함수 구현하기\n",
        "* 항등 함수(identity function)\n",
        "  * 입력을 그대로 출력한다. 입력과 출력이 항상 같다는 뜻임. 즉, 출력층에서 사용하면 입력 신호가 그대로 출력 신호가 된다. \n",
        "\n",
        "* 소프트맥스 함수(softmax function)"
      ],
      "metadata": {
        "id": "3fuP6bOJFNnN"
      }
    },
    {
      "cell_type": "markdown",
      "source": [
        "![995AFB465A6AA10102.png](data:image/png;base64,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)\n",
        "\n",
        "출처: https://kolikim.tistory.com/17"
      ],
      "metadata": {
        "id": "Pce85GSeGMpU"
      }
    },
    {
      "cell_type": "markdown",
      "source": [
        "위 수식이 소프트맥스 함수의 식이다. 식에 대한 자세한 설명은 91페이지 참고."
      ],
      "metadata": {
        "id": "MnWgxZqDGOt4"
      }
    },
    {
      "cell_type": "code",
      "source": [
        "a = np.array([0.3, 2.9, 4.0])\n",
        "exp_a = np.exp(a)     # 지수 함수\n",
        "print(exp_a)"
      ],
      "metadata": {
        "colab": {
          "base_uri": "https://localhost:8080/"
        },
        "id": "HPeb60JTE_L8",
        "outputId": "5f914593-fe1c-4185-de58-1d6399f55e9d"
      },
      "execution_count": 89,
      "outputs": [
        {
          "output_type": "stream",
          "name": "stdout",
          "text": [
            "[ 1.34985881 18.17414537 54.59815003]\n"
          ]
        }
      ]
    },
    {
      "cell_type": "code",
      "source": [
        "sum_exp_a = np.sum(exp_a)     # 지수 함수의 합\n",
        "print(sum_exp_a)"
      ],
      "metadata": {
        "colab": {
          "base_uri": "https://localhost:8080/"
        },
        "id": "1A-wNnNlHj58",
        "outputId": "9c56437d-de15-41b6-bfd6-aef791ef04a5"
      },
      "execution_count": 91,
      "outputs": [
        {
          "output_type": "stream",
          "name": "stdout",
          "text": [
            "74.1221542101633\n"
          ]
        }
      ]
    },
    {
      "cell_type": "code",
      "source": [
        "y = exp_a / sum_exp_a\n",
        "print(y)"
      ],
      "metadata": {
        "colab": {
          "base_uri": "https://localhost:8080/"
        },
        "id": "R7UzIEIfICq4",
        "outputId": "de818bd8-6e93-43c1-d0eb-4a34007b7c95"
      },
      "execution_count": 92,
      "outputs": [
        {
          "output_type": "stream",
          "name": "stdout",
          "text": [
            "[0.01821127 0.24519181 0.73659691]\n"
          ]
        }
      ]
    },
    {
      "cell_type": "code",
      "source": [
        "# 소프트맥스 함수를 함수...?로 구현\n",
        "def softmax(a):\n",
        "  exp_a = np.exp(a)\n",
        "  sum_exp_a = np.sum(exp_a)\n",
        "  y = exp_a / sum_exp_a\n",
        "\n",
        "  return y"
      ],
      "metadata": {
        "id": "HkYHZijIJqgN"
      },
      "execution_count": 93,
      "outputs": []
    },
    {
      "cell_type": "markdown",
      "source": [
        "### 소프트맥스 함수 구현 시 주의점\n",
        "위에서 구현한 softmax() 함수의 코드는 식을 제대로 구현하고 있지만 컴퓨터로 계산할 땐 결함이 있다. 바로 **오버플로** 문제이다. 지수 함수 때문인데, 너무 큰 값이 되어버려서 수치가 불안정해진다. \n",
        "> 컴퓨터는 수를 4바이트나 8바이트와 같이 크기가 유한한 데이터로 다룬다. 즉, 표현할 수 있는 수의 범위가 한정되어 **너무 큰 값은 표현할 수가 없다.** 이를 오버플로라고 한다.\n",
        "\n",
        "위 문제를 개선한 수식이 책 93페이지에 있음. 결국 포인트는,\n",
        "\n",
        "**소프트맥스의 지수 함수를 계산할 때 어떤 정수를 더하거나 빼도 결과는 바뀌지 않는다는 것이다.**"
      ],
      "metadata": {
        "id": "X5YpDcoxL28Q"
      }
    },
    {
      "cell_type": "code",
      "source": [
        "# 개선한 식을 구현\n",
        "# 꼭 책의 설명을 매번 보고 이해할 것\n",
        "\n",
        "a = np.array([1010, 1000, 990])\n",
        "np.exp(a) / np.sum(np.exp(a))   # 제대로 계산되지 않을 것, 오버플로 발생"
      ],
      "metadata": {
        "colab": {
          "base_uri": "https://localhost:8080/"
        },
        "id": "2GY9UffWLuxM",
        "outputId": "7b0e309d-cbab-4a7f-a115-68ad2e740251"
      },
      "execution_count": 94,
      "outputs": [
        {
          "output_type": "stream",
          "name": "stderr",
          "text": [
            "/usr/local/lib/python3.7/dist-packages/ipykernel_launcher.py:5: RuntimeWarning: overflow encountered in exp\n",
            "  \"\"\"\n",
            "/usr/local/lib/python3.7/dist-packages/ipykernel_launcher.py:5: RuntimeWarning: invalid value encountered in true_divide\n",
            "  \"\"\"\n"
          ]
        },
        {
          "output_type": "execute_result",
          "data": {
            "text/plain": [
              "array([nan, nan, nan])"
            ]
          },
          "metadata": {},
          "execution_count": 94
        }
      ]
    },
    {
      "cell_type": "code",
      "source": [
        "c = np.max(a)\n",
        "a - c"
      ],
      "metadata": {
        "colab": {
          "base_uri": "https://localhost:8080/"
        },
        "id": "H45NokL3NfwN",
        "outputId": "ea9c41f7-60b0-43bf-b10b-22fb59a5a111"
      },
      "execution_count": 95,
      "outputs": [
        {
          "output_type": "execute_result",
          "data": {
            "text/plain": [
              "array([  0, -10, -20])"
            ]
          },
          "metadata": {},
          "execution_count": 95
        }
      ]
    },
    {
      "cell_type": "code",
      "source": [
        "np.exp(a - c) / np.sum(np.exp(a - c))"
      ],
      "metadata": {
        "colab": {
          "base_uri": "https://localhost:8080/"
        },
        "id": "Y1W0DgIJNvAP",
        "outputId": "a266d8de-b40c-4ac0-a12f-8142040b85fa"
      },
      "execution_count": 96,
      "outputs": [
        {
          "output_type": "execute_result",
          "data": {
            "text/plain": [
              "array([9.99954600e-01, 4.53978686e-05, 2.06106005e-09])"
            ]
          },
          "metadata": {},
          "execution_count": 96
        }
      ]
    },
    {
      "cell_type": "markdown",
      "source": [
        "입력 신호 중 최댓값을 빼주면 계산할 수 있다. "
      ],
      "metadata": {
        "id": "HvOaaj4IN5zf"
      }
    },
    {
      "cell_type": "code",
      "source": [
        "def softmax(a):\n",
        "  c = np.max(a)\n",
        "  exp_a = np.exp(a-c)\n",
        "  sum_exp_a = np.sum(exp_a)\n",
        "  y = exp_a / sum_exp_a\n",
        "\n",
        "  return y"
      ],
      "metadata": {
        "id": "s0tRPekRN4Ue"
      },
      "execution_count": 99,
      "outputs": []
    },
    {
      "cell_type": "markdown",
      "source": [
        "### 소프트맥스 함수의 특징\n"
      ],
      "metadata": {
        "id": "691Cjqo_QDcL"
      }
    },
    {
      "cell_type": "code",
      "source": [
        "a = np.array([0.3, 2.9, 4.0])\n",
        "y = softmax(a)\n",
        "print(y)"
      ],
      "metadata": {
        "colab": {
          "base_uri": "https://localhost:8080/"
        },
        "id": "TZuTMumUQAP1",
        "outputId": "c0a53e51-e95f-49d5-dd22-ad4647d0ba92"
      },
      "execution_count": 100,
      "outputs": [
        {
          "output_type": "stream",
          "name": "stdout",
          "text": [
            "[0.01821127 0.24519181 0.73659691]\n"
          ]
        }
      ]
    },
    {
      "cell_type": "code",
      "source": [
        "np.sum(y)"
      ],
      "metadata": {
        "colab": {
          "base_uri": "https://localhost:8080/"
        },
        "id": "HiRNceiZQQln",
        "outputId": "9a37ca5a-e432-48c5-cca5-bdd567d0a052"
      },
      "execution_count": 101,
      "outputs": [
        {
          "output_type": "execute_result",
          "data": {
            "text/plain": [
              "1.0"
            ]
          },
          "metadata": {},
          "execution_count": 101
        }
      ]
    },
    {
      "cell_type": "markdown",
      "source": [
        "위와 같이 소프트맥스 함수의 출력은 0에서 1.0 사이의 실수이다. 또 모든 출력의 총합은 1이다. 이는 중요한 성질인데, 이 성질 덕분에 소프트맥스의 출력을 확률로 계산할 수 있다. "
      ],
      "metadata": {
        "id": "yu7GjOmDQkCI"
      }
    }
  ]
}